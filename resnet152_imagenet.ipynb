{
 "cells": [
  {
   "cell_type": "markdown",
   "id": "39093213",
   "metadata": {},
   "source": [
    "# 1006개의 데이터로 Transfer_Learning 하기\n",
    "\n",
    "- 논문의 모델에 1006개의 데이터를 넣고 학습을 시켜보자\n",
    "\n",
    "## Step 1. 실험환경 set-up\n",
    "\n",
    "#### 라이브러리 실행"
   ]
  },
  {
   "cell_type": "code",
   "execution_count": 1,
   "id": "f6698a5f",
   "metadata": {},
   "outputs": [],
   "source": [
    "from tensorflow.keras.models import Sequential, load_model\n",
    "\n",
    "import os           \n",
    "import numpy             as np  \n",
    "import tensorflow        as tf\n",
    "import matplotlib.pyplot as plt"
   ]
  },
  {
   "cell_type": "markdown",
   "id": "9c610641",
   "metadata": {},
   "source": [
    "#### 필요한 변수들 생성"
   ]
  },
  {
   "cell_type": "code",
   "execution_count": 2,
   "id": "f695f93f",
   "metadata": {},
   "outputs": [],
   "source": [
    "IMAGE_SIZE = [1024, 1360]                  # 이미지 사이즈 변수\n",
    "BATCH_SIZE = 32                            # BATCH_SIZE 변수\n",
    "EPOCHS     = 150                           # EPOCH 크기 변수\n",
    "AUTOTUNE   = tf.data.experimental.AUTOTUNE # 데이터 로드할 때 빠르게 로드할 수 있도록하는 설정 변수"
   ]
  },
  {
   "cell_type": "markdown",
   "id": "b0cf48bb",
   "metadata": {},
   "source": [
    "#### GPU 사용 여부보기"
   ]
  },
  {
   "cell_type": "code",
   "execution_count": 2,
   "id": "606be293",
   "metadata": {},
   "outputs": [
    {
     "data": {
      "text/plain": [
       "[PhysicalDevice(name='/physical_device:GPU:0', device_type='GPU')]"
      ]
     },
     "execution_count": 2,
     "metadata": {},
     "output_type": "execute_result"
    }
   ],
   "source": [
    "gpus = tf.config.experimental.list_logical_devices(\"GPU\")\n",
    "\n",
    "if len(gpus) > 1:\n",
    "    strategy = tf.distribute.MirroredStrategy([gpu.name for gpu in gpus])\n",
    "    print(f\"Running on multiple GPUs {[gpu.name for gpu in gpus]}\")\n",
    "\n",
    "elif len(gpus) == 1:\n",
    "    strategy = tf.distribute.get_strategy()\n",
    "    print(f\"Running on single GPU {gpus[0].name}\")\n",
    "\n",
    "else:\n",
    "    strategy = tf.distribute.get_strategy()\n",
    "    print(\"Running on CPU\")\n",
    "\n",
    "print(f\"Number of accelerators: {strategy.num_replicas_in_sync}\")"
   ]
  },
  {
   "cell_type": "markdown",
   "id": "afa02180",
   "metadata": {},
   "source": [
    "## Step 2. 데이터 준비하기\n",
    "\n",
    "먼저 아래의 링크에서 데이터를 다운 받을 것\n",
    "\n",
    "https://drive.google.com/drive/folders/1Pi5qyX080zY2IdGT1TvvLraBO9DHBxJl?usp=sharing\n",
    "\n",
    "받은 후 터미널 창에 아래의 명령어들을 차례로 입력\n",
    "\n",
    "```\n",
    "$ cd ~/Downloads && cp CellPin ~/aiffel\n",
    "```\n",
    "\n",
    "#### 데이터의 개수 확인"
   ]
  },
  {
   "cell_type": "code",
   "execution_count": 4,
   "id": "3cb1c610",
   "metadata": {},
   "outputs": [
    {
     "name": "stdout",
     "output_type": "stream",
     "text": [
      "/home/aiffel-dj52/aiffel/CellPin\n",
      "782\n",
      "104\n",
      "126\n"
     ]
    }
   ],
   "source": [
    "# 데이터 ROOT 경로 변수\n",
    "ROOT_PATH = os.path.join(os.getenv(\"HOME\"), \"aiffel/CellPin\")\n",
    "print(ROOT_PATH)\n",
    "\n",
    "# 각 데이터 불러오기\n",
    "train_filenames = tf.io.gfile.glob(str(ROOT_PATH + \"/train/*/*\"))\n",
    "test_filenames  = tf.io.gfile.glob(str(ROOT_PATH + \"/test/*/*\"))\n",
    "val_filenames   = tf.io.gfile.glob(str(ROOT_PATH + \"/val/*/*\"))\n",
    "\n",
    "# 데이터 갯수 확인하기\n",
    "print(len(train_filenames))\n",
    "print(len(test_filenames))\n",
    "print(len(val_filenames))"
   ]
  },
  {
   "cell_type": "markdown",
   "id": "0aa9a8a1",
   "metadata": {},
   "source": [
    "#### train 데이터 안에 정상 이미지 수와 CPE 이미지 수"
   ]
  },
  {
   "cell_type": "code",
   "execution_count": 6,
   "id": "78df0cbb",
   "metadata": {},
   "outputs": [
    {
     "name": "stdout",
     "output_type": "stream",
     "text": [
      "NORMAL images count in training set: 355\n",
      "CPE images count in training set: 427\n"
     ]
    }
   ],
   "source": [
    "COUNT_NORMAL = len([filename for filename in train_filenames if \"normal\" in filename])\n",
    "print(\"NORMAL images count in training set: \" + str(COUNT_NORMAL))\n",
    "\n",
    "COUNT_CPE = len([filename for filename in train_filenames if \"cpe\" in filename])\n",
    "print(\"CPE images count in training set: \" + str(COUNT_CPE))"
   ]
  },
  {
   "cell_type": "markdown",
   "id": "338dea52",
   "metadata": {},
   "source": [
    "#### val 데이터 안에 정상 이미지 수와 CPE 이미지 수"
   ]
  },
  {
   "cell_type": "code",
   "execution_count": 7,
   "id": "8cf8ca60",
   "metadata": {},
   "outputs": [
    {
     "name": "stdout",
     "output_type": "stream",
     "text": [
      "NORMAL images count in training set: 50\n",
      "CPE images count in training set: 76\n"
     ]
    }
   ],
   "source": [
    "COUNT_NORMAL = len([filename for filename in val_filenames if \"normal\" in filename])\n",
    "print(\"NORMAL images count in training set: \" + str(COUNT_NORMAL))\n",
    "\n",
    "COUNT_CPE = len([filename for filename in val_filenames if \"cpe\" in filename])\n",
    "print(\"CPE images count in training set: \" + str(COUNT_CPE))"
   ]
  },
  {
   "cell_type": "markdown",
   "id": "34c308f3",
   "metadata": {},
   "source": [
    "#### test 데이터 안에 정상 이미지 수와 CPE 이미지 수"
   ]
  },
  {
   "cell_type": "code",
   "execution_count": 8,
   "id": "0d3b2fb6",
   "metadata": {},
   "outputs": [
    {
     "name": "stdout",
     "output_type": "stream",
     "text": [
      "NORMAL images count in training set: 40\n",
      "CPE images count in training set: 64\n"
     ]
    }
   ],
   "source": [
    "COUNT_NORMAL = len([filename for filename in test_filenames if \"normal\" in filename])\n",
    "print(\"NORMAL images count in training set: \" + str(COUNT_NORMAL))\n",
    "\n",
    "COUNT_CPE = len([filename for filename in test_filenames if \"cpe\" in filename])\n",
    "print(\"CPE images count in training set: \" + str(COUNT_CPE))"
   ]
  },
  {
   "cell_type": "markdown",
   "id": "cd5077cd",
   "metadata": {},
   "source": [
    "#### tf.data 인스턴스를 만들기"
   ]
  },
  {
   "cell_type": "code",
   "execution_count": 9,
   "id": "f7b0e511",
   "metadata": {},
   "outputs": [],
   "source": [
    "train_list_ds = tf.data.Dataset.from_tensor_slices(train_filenames)\n",
    "val_list_ds   = tf.data.Dataset.from_tensor_slices(val_filenames)"
   ]
  },
  {
   "cell_type": "markdown",
   "id": "84397224",
   "metadata": {},
   "source": [
    "#### train data와 val data의 개수 확인"
   ]
  },
  {
   "cell_type": "code",
   "execution_count": 10,
   "id": "a05db204",
   "metadata": {},
   "outputs": [
    {
     "name": "stdout",
     "output_type": "stream",
     "text": [
      "Training images count: 782\n",
      "Validating images count: 126\n"
     ]
    }
   ],
   "source": [
    "TRAIN_IMG_COUNT = tf.data.experimental.cardinality(train_list_ds).numpy()\n",
    "print(\"Training images count: \" + str(TRAIN_IMG_COUNT))\n",
    "\n",
    "VAL_IMG_COUNT = tf.data.experimental.cardinality(val_list_ds).numpy()\n",
    "print(\"Validating images count: \" + str(VAL_IMG_COUNT))"
   ]
  },
  {
   "cell_type": "markdown",
   "id": "31a5283d",
   "metadata": {},
   "source": [
    "#### 라벨 이름들 확인"
   ]
  },
  {
   "cell_type": "code",
   "execution_count": 11,
   "id": "c88628d3",
   "metadata": {},
   "outputs": [
    {
     "name": "stdout",
     "output_type": "stream",
     "text": [
      "['cpe' 'normal']\n"
     ]
    }
   ],
   "source": [
    "CLASS_NAMES = np.array([str(tf.strings.split(item, os.path.sep)[-1].numpy())[2:-1]\n",
    "                        for item in tf.io.gfile.glob(str(ROOT_PATH + \"/train/*\"))])\n",
    "print(CLASS_NAMES)"
   ]
  },
  {
   "cell_type": "markdown",
   "id": "b6c9e6a0",
   "metadata": {},
   "source": [
    "#### 라벨링 함수를 만들어 보기"
   ]
  },
  {
   "cell_type": "code",
   "execution_count": 12,
   "id": "f9e17f4a",
   "metadata": {},
   "outputs": [],
   "source": [
    "def get_label(file_path):\n",
    "    parts = tf.strings.split(file_path, os.path.sep)\n",
    "    return parts[-2] == \"cpe\""
   ]
  },
  {
   "cell_type": "markdown",
   "id": "509fef43",
   "metadata": {},
   "source": [
    "#### decode_img 함수와 process_path 함수를 만들기"
   ]
  },
  {
   "cell_type": "code",
   "execution_count": 13,
   "id": "ff92a078",
   "metadata": {},
   "outputs": [],
   "source": [
    "def decode_img(img):\n",
    "  # 이미지를 uint8 tensor로 바꾼다.\n",
    "  img = tf.image.decode_jpeg(img, channels = 1)\n",
    "    \n",
    "  # img를 범위 [0,1]의 float32 데이터 타입으로 바꾼다.\n",
    "  img = tf.image.convert_image_dtype(img, tf.float32)\n",
    "    \n",
    "  # img의 이미지 사이즈를 IMAGE_SIZE에서 지정한 사이즈로 수정한다.\n",
    "  return tf.image.resize(img, IMAGE_SIZE)\n",
    "\n",
    "def process_path(file_path):\n",
    "    label = get_label(file_path)\n",
    "    \n",
    "    if label == True:\n",
    "        label = ([0, 1])\n",
    "    else:\n",
    "        label = ([1, 0])\n",
    "        \n",
    "    img = tf.io.read_file(file_path)\n",
    "    img = decode_img(img)\n",
    "    \n",
    "    return img, label"
   ]
  },
  {
   "cell_type": "markdown",
   "id": "d9dbddba",
   "metadata": {},
   "source": [
    "#### train과 val에 함수들 적용해주기"
   ]
  },
  {
   "cell_type": "code",
   "execution_count": 14,
   "id": "b1452bbd",
   "metadata": {},
   "outputs": [],
   "source": [
    "train_ds = train_list_ds.map(process_path, num_parallel_calls = AUTOTUNE)\n",
    "val_ds   = val_list_ds.map(process_path,   num_parallel_calls = AUTOTUNE)"
   ]
  },
  {
   "cell_type": "markdown",
   "id": "5c6084b4",
   "metadata": {},
   "source": [
    "#### 전처리 함수 만들기 및 적용"
   ]
  },
  {
   "cell_type": "code",
   "execution_count": 16,
   "id": "32450f7a",
   "metadata": {},
   "outputs": [],
   "source": [
    "def prepare_for_training(ds, shuffle_buffer_size = 1000):\n",
    "    ds = ds.shuffle(buffer_size = shuffle_buffer_size)\n",
    "    ds = ds.repeat()\n",
    "    ds = ds.batch(BATCH_SIZE)\n",
    "    ds = ds.prefetch(buffer_size = AUTOTUNE)\n",
    "\n",
    "    return ds\n",
    "\n",
    "\n",
    "train_ds = prepare_for_training(train_ds)\n",
    "val_ds   = prepare_for_training(val_ds)"
   ]
  },
  {
   "cell_type": "markdown",
   "id": "3797d6b3",
   "metadata": {},
   "source": [
    "#### Image shape를 변경 체크하기"
   ]
  },
  {
   "cell_type": "code",
   "execution_count": 17,
   "id": "9ea67665",
   "metadata": {},
   "outputs": [
    {
     "name": "stdout",
     "output_type": "stream",
     "text": [
      "Image shape:  (32, 1024, 1360, 1)\n",
      "Label:  (32, 2)\n"
     ]
    }
   ],
   "source": [
    "for image, label in train_ds.take(1):\n",
    "    print(\"Image shape :\", image.numpy().shape)\n",
    "    print(\"Label :\",       label.numpy().shape)"
   ]
  },
  {
   "cell_type": "markdown",
   "id": "a46b2820",
   "metadata": {},
   "source": [
    "#### test 데이터 셋도 만들어 보기 & 데이터의 갯수 확인"
   ]
  },
  {
   "cell_type": "code",
   "execution_count": 18,
   "id": "e8c6f883",
   "metadata": {},
   "outputs": [
    {
     "name": "stdout",
     "output_type": "stream",
     "text": [
      "104\n"
     ]
    }
   ],
   "source": [
    "test_list_ds     = tf.data.Dataset.list_files(str(ROOT_PATH + \"/test/*/*\"))\n",
    "TEST_IMAGE_COUNT = tf.data.experimental.cardinality(test_list_ds).numpy()\n",
    "test_ds          = test_list_ds.map(process_path, num_parallel_calls = AUTOTUNE)\n",
    "test_ds          = test_ds.batch(BATCH_SIZE)\n",
    "print(TEST_IMAGE_COUNT)"
   ]
  },
  {
   "cell_type": "markdown",
   "id": "be1b70fe",
   "metadata": {},
   "source": [
    "## Step 3. 데이터 시각화\n",
    "\n",
    "#### 16개의 샘플 꺼내서 확인"
   ]
  },
  {
   "cell_type": "code",
   "execution_count": 19,
   "id": "b2c16597",
   "metadata": {},
   "outputs": [],
   "source": [
    "image_batch, label_batch = next(iter(train_ds))\n",
    "\n",
    "def show_batch(image_batch, label_batch):\n",
    "    plt.figure(figsize = (10,10))\n",
    "    \n",
    "    for n in range(16):\n",
    "        ax = plt.subplot(4, 4, n + 1)\n",
    "        plt.imshow(image_batch[n])\n",
    "        \n",
    "        if list(label_batch[n])[0].numpy() == 0:\n",
    "            plt.title(\"CPE\")\n",
    "        else:\n",
    "            plt.title(\"NORMAL\")\n",
    "        \n",
    "        plt.axis(\"off\")\n",
    "\n",
    "        \n",
    "show_batch(image_batch.numpy(), label_batch)"
   ]
  },
  {
   "cell_type": "markdown",
   "id": "76a06a99",
   "metadata": {},
   "source": [
    "#### model building(ResNet, Freeze)"
   ]
  },
  {
   "cell_type": "code",
   "execution_count": null,
   "id": "3fee2212",
   "metadata": {},
   "outputs": [],
   "source": [
    "with strategy.scope():\n",
    "    # resnet에서 분류기를 제외한 부분을 가중치 있는 상태로 가져오기\n",
    "    resnet_layer = tf.keras.applications.ResNet152V2(include_top           = False,\n",
    "                                                     weights               = \"imagenet\",\n",
    "                                                     input_shape           = (256, 256, 3),\n",
    "                                                     classes               = 2,\n",
    "                                                     classifier_activation = \"softmax\")\n",
    "    \n",
    "    # 제거된 분류기 만들기\n",
    "    fc_layer = [\n",
    "        tf.keras.layers.GlobalMaxPool2D(),\n",
    "        tf.keras.layers.Dense(2),\n",
    "        tf.keras.layers.Activation('softmax')\n",
    "    ]\n",
    "    \n",
    "    # 가중치 있는 레이어를 학습 불가능 상태로 만들기\n",
    "    resnet_layer.trainable = False\n",
    "    \n",
    "    # 두 레이어를 합쳐서 모델 만들기\n",
    "    resnet152 = tf.keras.models.Sequential([resnet_layer] + fc_layer)"
   ]
  },
  {
   "cell_type": "code",
   "execution_count": null,
   "id": "a9f007bd",
   "metadata": {},
   "outputs": [],
   "source": [
    "resnet152.summary()"
   ]
  },
  {
   "cell_type": "markdown",
   "id": "ebe1b117",
   "metadata": {},
   "source": [
    "## Step 4. 모델 훈련\n",
    "\n",
    "#### GPU사용하여 model complie"
   ]
  },
  {
   "cell_type": "code",
   "execution_count": null,
   "id": "9d0c5f69",
   "metadata": {},
   "outputs": [],
   "source": [
    "with strategy.scope():\n",
    "    METRICS = [\n",
    "        \"accuracy\",\n",
    "        tf.keras.metrics.Precision(name = \"precision\"),\n",
    "        tf.keras.metrics.Recall(name    = \"recall\")\n",
    "    ]\n",
    "    \n",
    "    resnet152.compile(\n",
    "        optimizer = \"adam\",\n",
    "        loss      = \"binary_crossentropy\",\n",
    "        metrics   = METRICS\n",
    "    )\n",
    "    \n",
    "    check_point = tf.keras.callbacks.ModelCheckpoint(ROOT_PATH + \"/pre_training_model/best_model_resnet152_1.h5\")"
   ]
  },
  {
   "cell_type": "markdown",
   "id": "a849ac22",
   "metadata": {},
   "source": [
    "#### 모델 fitting"
   ]
  },
  {
   "cell_type": "code",
   "execution_count": null,
   "id": "af4d821f",
   "metadata": {},
   "outputs": [],
   "source": [
    "with strategy.scope():\n",
    "    history = resnet152.fit(\n",
    "        train_ds,\n",
    "        steps_per_epoch  = TRAIN_IMG_COUNT // BATCH_SIZE,\n",
    "        epochs           = EPOCHS,\n",
    "        validation_data  = val_ds,\n",
    "        validation_steps = VAL_IMG_COUNT // BATCH_SIZE,\n",
    "        callbacks        = [check_point]\n",
    "    )"
   ]
  },
  {
   "cell_type": "markdown",
   "id": "b951c645",
   "metadata": {},
   "source": [
    "## Step 5. 결과 확인 및 시각화"
   ]
  },
  {
   "cell_type": "code",
   "execution_count": null,
   "id": "8371212a",
   "metadata": {},
   "outputs": [],
   "source": [
    "fig, ax = plt.subplots(2, 2, figsize = (10, 10))\n",
    "ax      = ax.ravel()\n",
    "\n",
    "for i, met in enumerate([\"precision\", \"recall\", \"accuracy\", \"loss\"]):\n",
    "    ax[i].plot(history.history[met])\n",
    "    ax[i].plot(history.history[\"val_\" + met])\n",
    "    ax[i].set_title(f\"Model {met}\")\n",
    "    ax[i].set_xlabel(\"epochs\")\n",
    "    ax[i].set_ylabel(met)\n",
    "    ax[i].legend([\"train\", \"val\"])"
   ]
  },
  {
   "cell_type": "markdown",
   "id": "bb5d9318",
   "metadata": {},
   "source": [
    "## Step 6. 최종 Test dataset 검정하기"
   ]
  },
  {
   "cell_type": "code",
   "execution_count": null,
   "id": "1080feb1",
   "metadata": {},
   "outputs": [],
   "source": [
    "resnet152 = tf.keras.models.load_model(ROOT_PATH + \"/pre_training_model/best_model_resnet152_1.h5\")\n",
    "\n",
    "loss, acc, prec, rec = resnet152.evaluate(test_ds)"
   ]
  },
  {
   "cell_type": "markdown",
   "id": "8170125a",
   "metadata": {},
   "source": [
    "#### model building(ResNet, Fine Tuning)"
   ]
  },
  {
   "cell_type": "code",
   "execution_count": null,
   "id": "bafa8f58",
   "metadata": {},
   "outputs": [],
   "source": [
    "# unfreeze\n",
    "with strategy.scope():\n",
    "    resnet152.layers[0].trainable = True"
   ]
  },
  {
   "cell_type": "code",
   "execution_count": null,
   "id": "0b2d0385",
   "metadata": {},
   "outputs": [],
   "source": [
    "resnet152.summary()"
   ]
  },
  {
   "cell_type": "code",
   "execution_count": null,
   "id": "dce74f4b",
   "metadata": {},
   "outputs": [],
   "source": [
    "# model compile\n",
    "with strategy.scope():\n",
    "    METRICS = [\n",
    "        \"accuracy\",\n",
    "        tf.keras.metrics.Precision(name = \"precision\"),\n",
    "        tf.keras.metrics.Recall(name    = \"recall\")\n",
    "    ]\n",
    "    \n",
    "    resnet152.compile(\n",
    "        optimizer = tf.keras.optimizers.Adam(learning_rate = 1e-5),\n",
    "        loss      = \"binary_crossentropy\",\n",
    "        metrics   = METRICS\n",
    "    )\n",
    "    \n",
    "    check_point = tf.keras.callbacks.ModelCheckpoint(ROOT_PATH + \"/pre_training_model/best_model_resnet152_ft.h5\")"
   ]
  },
  {
   "cell_type": "code",
   "execution_count": null,
   "id": "7dfa86de",
   "metadata": {},
   "outputs": [],
   "source": [
    "# model fit\n",
    "with strategy.scope():\n",
    "    history = resnet152.fit(\n",
    "        train_ds,\n",
    "        steps_per_epoch  = TRAIN_IMG_COUNT // BATCH_SIZE,\n",
    "        epochs           = EPOCHS,\n",
    "        validation_data  = val_ds,\n",
    "        validation_steps = VAL_IMG_COUNT // BATCH_SIZE,\n",
    "        callbacks        = [check_point]\n",
    "    )"
   ]
  },
  {
   "cell_type": "code",
   "execution_count": null,
   "id": "b15ada1c",
   "metadata": {},
   "outputs": [],
   "source": [
    "# visualization\n",
    "fig, ax = plt.subplots(2, 2, figsize = (10, 10))\n",
    "ax      = ax.ravel()\n",
    "\n",
    "for i, met in enumerate([\"precision\", \"recall\", \"accuracy\", \"loss\"]):\n",
    "    ax[i].plot(history.history[met])\n",
    "    ax[i].plot(history.history[\"val_\" + met])\n",
    "    ax[i].set_title(f\"Model {met}\")\n",
    "    ax[i].set_xlabel(\"epochs\")\n",
    "    ax[i].set_ylabel(met)\n",
    "    ax[i].legend([\"train\", \"val\"])"
   ]
  },
  {
   "cell_type": "code",
   "execution_count": null,
   "id": "d7c38d06",
   "metadata": {},
   "outputs": [],
   "source": [
    "with strategy.scope():\n",
    "    resnet152 = tf.keras.models.load_model(ROOT_PATH + \"/pre_training_model/best_model_resnet152_ft.h5\")\n",
    "    \n",
    "    loss, acc, prec, rec = resnet152.evaluate(test_ds)"
   ]
  },
  {
   "cell_type": "code",
   "execution_count": null,
   "id": "3de35ad2",
   "metadata": {},
   "outputs": [],
   "source": []
  }
 ],
 "metadata": {
  "kernelspec": {
   "display_name": "Python 3",
   "language": "python",
   "name": "python3"
  },
  "language_info": {
   "codemirror_mode": {
    "name": "ipython",
    "version": 3
   },
   "file_extension": ".py",
   "mimetype": "text/x-python",
   "name": "python",
   "nbconvert_exporter": "python",
   "pygments_lexer": "ipython3",
   "version": "3.8.8"
  }
 },
 "nbformat": 4,
 "nbformat_minor": 5
}
