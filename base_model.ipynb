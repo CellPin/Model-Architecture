{
 "cells": [
  {
   "cell_type": "markdown",
   "id": "ecb19550",
   "metadata": {},
   "source": [
    "# 1006개의 데이터로 Transfer_Learning 하기\n",
    "\n",
    "- 논문의 모델에 1006개의 데이터를 넣고 학습을 시켜보자\n",
    "\n",
    "## Step 1. 실험환경 set-up\n",
    "\n",
    "#### 라이브러리 실행"
   ]
  },
  {
   "cell_type": "code",
   "execution_count": 1,
   "id": "d645452a",
   "metadata": {},
   "outputs": [],
   "source": [
    "from tensorflow.keras             import utils, regularizers\n",
    "from tensorflow.keras.models      import Sequential, load_model\n",
    "from tensorflow.keras.layers      import Conv2D, MaxPooling2D, AveragePooling2D, Dense, Dropout, Activation, Flatten\n",
    "from tensorflow.keras.optimizers  import Adam\n",
    "from tensorflow.keras.constraints import MaxNorm\n",
    "from sklearn.model_selection      import train_test_split  # 데이터 전처리에 필요한 패키지\n",
    "\n",
    "import os                       # I/O 관련된 작업에 필요한 패키지 \n",
    "import numpy             as np  # 데이터 array 작업에 필요한 패키지\n",
    "import tensorflow        as tf  # 딥러닝 관련된 작업에 필요한 패키지\n",
    "import matplotlib.pyplot as plt # 데이터 시각화에 관련된 작업에 필요한 패키지\n",
    "\n",
    "import re    # 정규표현식 관련된 작업에 필요한 패키지\n",
    "import os    # I/O 관련된 작업에 필요한 패키지 \n",
    "import pandas as pd     # 데이터 전처리 관련된 작업에 필요한 패키지\n",
    "import numpy as np      # 데이터 array 작업에 필요한 패키지\n",
    "import tensorflow as tf  # 딥러닝 관련된 작업에 필요한 패키지\n",
    "import matplotlib.pyplot as plt    # 데이터 시각화에 관련된 작업에 필요한 패키지\n",
    "from sklearn.model_selection import train_test_split  # 데이터 전처리에 필요한 패키지\n",
    "from PIL import Image"
   ]
  },
  {
   "cell_type": "markdown",
   "id": "fa1690a1",
   "metadata": {},
   "source": [
    "#### 필요한 변수들 생성"
   ]
  },
  {
   "cell_type": "code",
   "execution_count": 2,
   "id": "65265324",
   "metadata": {},
   "outputs": [],
   "source": [
    "# 데이터 로드할 때 빠르게 로드할 수 있도록하는 설정 변수\n",
    "AUTOTUNE = tf.data.experimental.AUTOTUNE\n",
    "\n",
    "# BATCH_SIZE 변수\n",
    "BATCH_SIZE = 32\n",
    "\n",
    "# 이미지 사이즈 변수\n",
    "IMAGE_SIZE = [1024, 1360]\n",
    "\n",
    "# EPOCH 크기 변수\n",
    "EPOCHS = 150"
   ]
  },
  {
   "cell_type": "markdown",
   "id": "19436bc3",
   "metadata": {},
   "source": []
  },
  {
   "cell_type": "code",
   "execution_count": 3,
   "id": "7112857c",
   "metadata": {},
   "outputs": [
    {
     "data": {
      "text/plain": [
       "[]"
      ]
     },
     "execution_count": 3,
     "metadata": {},
     "output_type": "execute_result"
    }
   ],
   "source": [
    "tf.config.list_physical_devices('GPU')"
   ]
  },
  {
   "cell_type": "markdown",
   "id": "fa45aedd",
   "metadata": {},
   "source": [
    "## Step 2. 데이터 준비하기\n",
    "\n",
    "먼저 아래의 링크에서 데이터를 다운 받을 것\n",
    "\n",
    "https://drive.google.com/drive/folders/1Pi5qyX080zY2IdGT1TvvLraBO9DHBxJl?usp=sharing\n",
    "\n",
    "받은 후 터미널 창에 아래의 명령어들을 차례로 입력\n",
    "\n",
    "```\n",
    "$ cd ~/Downloads && cp CellPin ~/aiffel\n",
    "```\n",
    "\n",
    "#### 데이터의 개수 확인"
   ]
  },
  {
   "cell_type": "code",
   "execution_count": 4,
   "id": "3ac8ce7e",
   "metadata": {},
   "outputs": [
    {
     "name": "stdout",
     "output_type": "stream",
     "text": [
      "/home/aiffel-dj52/aiffel/CellPin\n",
      "782\n",
      "104\n",
      "126\n"
     ]
    }
   ],
   "source": [
    "# 데이터 ROOT 경로 변수\n",
    "ROOT_PATH = os.path.join(os.getenv('HOME'), 'aiffel/CellPin')\n",
    "print(ROOT_PATH)\n",
    "\n",
    "train_filenames = tf.io.gfile.glob(str(ROOT_PATH + '/train/*/*'))\n",
    "test_filenames = tf.io.gfile.glob(str(ROOT_PATH + '/test/*/*'))\n",
    "val_filenames = tf.io.gfile.glob(str(ROOT_PATH + '/val/*/*'))\n",
    "\n",
    "print(len(train_filenames))\n",
    "print(len(test_filenames))\n",
    "print(len(val_filenames))"
   ]
  },
  {
   "cell_type": "markdown",
   "id": "ef4c7e3f",
   "metadata": {},
   "source": [
    "#### train과 validation을 80:20으로 분할"
   ]
  },
  {
   "cell_type": "code",
   "execution_count": 5,
   "id": "f8b48a49",
   "metadata": {},
   "outputs": [],
   "source": [
    "# filenames = tf.io.gfile.glob(str(ROOT_PATH + '/train/*/*'))\n",
    "# filenames.extend(tf.io.gfile.glob(str(ROOT_PATH + '/val/*/*')))\n",
    "\n",
    "# train_filenames, val_filenames = train_test_split(filenames, test_size=0.2)\n",
    "\n",
    "# print(len(train_filenames))\n",
    "# print(len(val_filenames))"
   ]
  },
  {
   "cell_type": "markdown",
   "id": "bc18bd3f",
   "metadata": {},
   "source": [
    "#### train 데이터 안에 정상 이미지 수와 CPE 이미지 수"
   ]
  },
  {
   "cell_type": "code",
   "execution_count": 6,
   "id": "a7b0c194",
   "metadata": {},
   "outputs": [
    {
     "name": "stdout",
     "output_type": "stream",
     "text": [
      "NORMAL images count in training set: 355\n",
      "CPE images count in training set: 427\n"
     ]
    }
   ],
   "source": [
    "COUNT_NORMAL = len([filename for filename in train_filenames if \"normal\" in filename])\n",
    "print(\"NORMAL images count in training set: \" + str(COUNT_NORMAL))\n",
    "\n",
    "COUNT_CPE = len([filename for filename in train_filenames if \"cpe\" in filename])\n",
    "print(\"CPE images count in training set: \" + str(COUNT_CPE))"
   ]
  },
  {
   "cell_type": "markdown",
   "id": "bb36dfbb",
   "metadata": {},
   "source": [
    "#### val 데이터 안에 정상 이미지 수와 CPE 이미지 수"
   ]
  },
  {
   "cell_type": "code",
   "execution_count": 7,
   "id": "5f46e3e6",
   "metadata": {},
   "outputs": [
    {
     "name": "stdout",
     "output_type": "stream",
     "text": [
      "NORMAL images count in training set: 50\n",
      "CPE images count in training set: 76\n"
     ]
    }
   ],
   "source": [
    "COUNT_NORMAL = len([filename for filename in val_filenames if \"normal\" in filename])\n",
    "print(\"NORMAL images count in training set: \" + str(COUNT_NORMAL))\n",
    "\n",
    "COUNT_CPE = len([filename for filename in val_filenames if \"cpe\" in filename])\n",
    "print(\"CPE images count in training set: \" + str(COUNT_CPE))"
   ]
  },
  {
   "cell_type": "markdown",
   "id": "1afde8b7",
   "metadata": {},
   "source": [
    "#### test 데이터 안에 정상 이미지 수와 CPE 이미지 수"
   ]
  },
  {
   "cell_type": "code",
   "execution_count": 8,
   "id": "86f89fb0",
   "metadata": {},
   "outputs": [
    {
     "name": "stdout",
     "output_type": "stream",
     "text": [
      "NORMAL images count in training set: 40\n",
      "CPE images count in training set: 64\n"
     ]
    }
   ],
   "source": [
    "COUNT_NORMAL = len([filename for filename in test_filenames if \"normal\" in filename])\n",
    "print(\"NORMAL images count in training set: \" + str(COUNT_NORMAL))\n",
    "\n",
    "COUNT_CPE = len([filename for filename in test_filenames if \"cpe\" in filename])\n",
    "print(\"CPE images count in training set: \" + str(COUNT_CPE))"
   ]
  },
  {
   "cell_type": "markdown",
   "id": "6da25b8b",
   "metadata": {},
   "source": [
    "#### tf.data 인스턴스를 만들기"
   ]
  },
  {
   "cell_type": "code",
   "execution_count": 9,
   "id": "f8c568c1",
   "metadata": {},
   "outputs": [],
   "source": [
    "train_list_ds = tf.data.Dataset.from_tensor_slices(train_filenames)\n",
    "val_list_ds = tf.data.Dataset.from_tensor_slices(val_filenames)"
   ]
  },
  {
   "cell_type": "markdown",
   "id": "a9f4aba1",
   "metadata": {},
   "source": [
    "#### train data와 val data의 개수 확인"
   ]
  },
  {
   "cell_type": "code",
   "execution_count": 10,
   "id": "0843e15e",
   "metadata": {},
   "outputs": [
    {
     "name": "stdout",
     "output_type": "stream",
     "text": [
      "Training images count: 782\n",
      "Validating images count: 126\n"
     ]
    }
   ],
   "source": [
    "TRAIN_IMG_COUNT = tf.data.experimental.cardinality(train_list_ds).numpy()\n",
    "print(\"Training images count: \" + str(TRAIN_IMG_COUNT))\n",
    "\n",
    "VAL_IMG_COUNT = tf.data.experimental.cardinality(val_list_ds).numpy()\n",
    "print(\"Validating images count: \" + str(VAL_IMG_COUNT))"
   ]
  },
  {
   "cell_type": "markdown",
   "id": "946769d2",
   "metadata": {},
   "source": [
    "#### 라벨 이름들 확인"
   ]
  },
  {
   "cell_type": "code",
   "execution_count": 11,
   "id": "3d38bcfd",
   "metadata": {},
   "outputs": [
    {
     "name": "stdout",
     "output_type": "stream",
     "text": [
      "['cpe' 'normal']\n"
     ]
    }
   ],
   "source": [
    "CLASS_NAMES = np.array([str(tf.strings.split(item, os.path.sep)[-1].numpy())[2:-1]\n",
    "                        for item in tf.io.gfile.glob(str(ROOT_PATH + \"/train/*\"))])\n",
    "print(CLASS_NAMES)"
   ]
  },
  {
   "cell_type": "markdown",
   "id": "02d15291",
   "metadata": {},
   "source": [
    "#### 라벨링 함수를 만들어 보기"
   ]
  },
  {
   "cell_type": "code",
   "execution_count": 12,
   "id": "e04911bf",
   "metadata": {},
   "outputs": [],
   "source": [
    "def get_label(file_path):\n",
    "    parts = tf.strings.split(file_path, os.path.sep)\n",
    "    return parts[-2] == \"cpe\""
   ]
  },
  {
   "cell_type": "markdown",
   "id": "404e1e31",
   "metadata": {},
   "source": [
    "#### decode_img 함수와 process_path 함수를 만들기"
   ]
  },
  {
   "cell_type": "code",
   "execution_count": 13,
   "id": "14c5c875",
   "metadata": {},
   "outputs": [],
   "source": [
    "def decode_img(img):\n",
    "  # 이미지를 uint8 tensor로 바꾼다.\n",
    "  img = tf.image.decode_jpeg(img, channels=1)\n",
    "  # img를 범위 [0,1]의 float32 데이터 타입으로 바꾼다.\n",
    "  img = tf.image.convert_image_dtype(img, tf.float32)\n",
    "  # img의 이미지 사이즈를 IMAGE_SIZE에서 지정한 사이즈로 수정한다.\n",
    "  return tf.image.resize(img, IMAGE_SIZE)\n",
    "\n",
    "def process_path(file_path):\n",
    "    label = get_label(file_path)\n",
    "    if label == True:\n",
    "        label = ([0, 1])\n",
    "    else:\n",
    "        label = ([1, 0])\n",
    "    img = tf.io.read_file(file_path)\n",
    "    img = decode_img(img)\n",
    "    return img, label"
   ]
  },
  {
   "cell_type": "markdown",
   "id": "6c1a9ed2",
   "metadata": {},
   "source": [
    "#### train과 val에 함수들 적용해주기"
   ]
  },
  {
   "cell_type": "code",
   "execution_count": 14,
   "id": "6e788e14",
   "metadata": {},
   "outputs": [],
   "source": [
    "train_ds = train_list_ds.map(process_path, num_parallel_calls=AUTOTUNE)\n",
    "val_ds = val_list_ds.map(process_path, num_parallel_calls=AUTOTUNE)"
   ]
  },
  {
   "cell_type": "code",
   "execution_count": 15,
   "id": "548c2373",
   "metadata": {},
   "outputs": [
    {
     "data": {
      "text/plain": [
       "<ParallelMapDataset shapes: ((224, 224, 1), (2,)), types: (tf.float32, tf.int32)>"
      ]
     },
     "execution_count": 15,
     "metadata": {},
     "output_type": "execute_result"
    }
   ],
   "source": [
    "train_ds"
   ]
  },
  {
   "cell_type": "markdown",
   "id": "39fce204",
   "metadata": {},
   "source": [
    "#### 전처리 함수 만들기 및 적용"
   ]
  },
  {
   "cell_type": "code",
   "execution_count": 16,
   "id": "a30cb241",
   "metadata": {},
   "outputs": [],
   "source": [
    "# def augment_LR(image,label):\n",
    "#     image = tf.image.random_flip_left_right(image)  # 랜덤하게 좌우를 반전합니다.\n",
    "#     return image,label\n",
    "\n",
    "def prepare_for_training(ds, shuffle_buffer_size=1000):\n",
    "    \n",
    "#     ds = ds.map(\n",
    "#             augment_LR,       # augment 함수 적용\n",
    "#             num_parallel_calls=2\n",
    "#         )    \n",
    "\n",
    "    ds = ds.shuffle(buffer_size=shuffle_buffer_size)\n",
    "\n",
    "    ds = ds.repeat()\n",
    "\n",
    "    ds = ds.batch(BATCH_SIZE)\n",
    "\n",
    "    ds = ds.prefetch(buffer_size=AUTOTUNE)\n",
    "\n",
    "    return ds\n",
    "\n",
    "train_ds = prepare_for_training(train_ds)\n",
    "val_ds = prepare_for_training(val_ds)"
   ]
  },
  {
   "cell_type": "markdown",
   "id": "c50b363a",
   "metadata": {},
   "source": [
    "#### Image shape를 변경 체크하기"
   ]
  },
  {
   "cell_type": "code",
   "execution_count": 17,
   "id": "4f54a44c",
   "metadata": {},
   "outputs": [
    {
     "name": "stdout",
     "output_type": "stream",
     "text": [
      "Image shape:  (32, 224, 224, 1)\n",
      "Label:  (32, 2)\n"
     ]
    }
   ],
   "source": [
    "for image, label in train_ds.take(1):\n",
    "    print(\"Image shape: \", image.numpy().shape)\n",
    "    print(\"Label: \", label.numpy().shape)"
   ]
  },
  {
   "cell_type": "markdown",
   "id": "82ad2fce",
   "metadata": {},
   "source": [
    "#### test 데이터 셋도 만들어 보기 & 데이터의 갯수 확인"
   ]
  },
  {
   "cell_type": "code",
   "execution_count": 18,
   "id": "07b3a3b9",
   "metadata": {},
   "outputs": [
    {
     "name": "stdout",
     "output_type": "stream",
     "text": [
      "104\n"
     ]
    }
   ],
   "source": [
    "test_list_ds = tf.data.Dataset.list_files(str(ROOT_PATH + '/test/*/*'))\n",
    "TEST_IMAGE_COUNT = tf.data.experimental.cardinality(test_list_ds).numpy()\n",
    "test_ds = test_list_ds.map(process_path, num_parallel_calls=AUTOTUNE)\n",
    "test_ds = test_ds.batch(BATCH_SIZE)\n",
    "\n",
    "print(TEST_IMAGE_COUNT)"
   ]
  },
  {
   "cell_type": "markdown",
   "id": "0fdd55d4",
   "metadata": {},
   "source": [
    "## Step 3. 데이터 시각화\n",
    "\n",
    "#### 16개의 샘플 꺼내서 확인"
   ]
  },
  {
   "cell_type": "code",
   "execution_count": 19,
   "id": "6df43d71",
   "metadata": {},
   "outputs": [],
   "source": [
    "# image_batch, label_batch = next(iter(train_ds))\n",
    "\n",
    "# def show_batch(image_batch, label_batch):\n",
    "#     plt.figure(figsize=(10,10))\n",
    "#     for n in range(16):\n",
    "#         ax = plt.subplot(4,4,n+1)\n",
    "#         plt.imshow(image_batch[n])\n",
    "#         if list(label_batch[n])[0].numpy() == 0:\n",
    "#             plt.title(\"CPE\")\n",
    "#         else:\n",
    "#             plt.title(\"NORMAL\")\n",
    "#         plt.axis(\"off\")\n",
    "\n",
    "# show_batch(image_batch.numpy(), label_batch)"
   ]
  },
  {
   "cell_type": "markdown",
   "id": "4525037d",
   "metadata": {},
   "source": [
    "#### model building"
   ]
  },
  {
   "cell_type": "code",
   "execution_count": 22,
   "id": "0ff36381",
   "metadata": {},
   "outputs": [],
   "source": [
    "conv_layer = [    \n",
    "    # convolution and then pooling\n",
    "    Conv2D(20, (7, 7), input_shape=(1024,1360,1), name='first_conv_layer',padding='valid', activation = 'relu'),\n",
    "    Activation('relu'),\n",
    "    MaxPooling2D(pool_size=(10, 10), padding='valid'),\n",
    "\n",
    "    # convolution and then pooling\n",
    "    Conv2D(25, (5, 5), name='second_conv_layer', padding='valid'),\n",
    "    Activation('relu'),\n",
    "    MaxPooling2D(pool_size=(6, 6), padding='valid'),\n",
    "    \n",
    "    # convolution and then pooling\n",
    "    Conv2D(30, (3, 3), name='third_conv_layer', padding='valid'),\n",
    "    Activation('relu'),\n",
    "    MaxPooling2D(pool_size=(6, 6), padding='valid')\n",
    "]\n",
    "\n",
    "fc_layer = [\n",
    "    # flatten and connect with three fully connected layer\n",
    "    Flatten(),\n",
    "    Dense(100, name='fc_layer_100_1'),\n",
    "    Activation('sigmoid'),\n",
    "    Dense(100, name='fc_layer_100_2',kernel_constraint= MaxNorm(1.)),\n",
    "    Activation('sigmoid'),\n",
    "    Dense(100, name='fc_layer_100_3',kernel_regularizer=regularizers.l2(0.01)),\n",
    "    Activation('sigmoid'),\n",
    " \n",
    "    # conneted with smaller fully connected layer\n",
    "    # with the same number of neurons as the number of classes\n",
    "    Dense(2, name='fc_layer_2'),\n",
    "    Activation('softmax')\n",
    "]\n",
    "\n",
    "model = Sequential(conv_layer + fc_layer)"
   ]
  },
  {
   "cell_type": "code",
   "execution_count": null,
   "id": "0d89cb43",
   "metadata": {},
   "outputs": [],
   "source": [
    "model.summary()"
   ]
  },
  {
   "cell_type": "markdown",
   "id": "32591013",
   "metadata": {},
   "source": [
    "## Step 5. 데이터 imbalance 처리\n",
    "\n",
    "#### 이 weight들은 'Normal'과 'Cpe' 전체 데이터 건수에 반비례하도록 설정"
   ]
  },
  {
   "cell_type": "code",
   "execution_count": null,
   "id": "bcbb13b2",
   "metadata": {},
   "outputs": [],
   "source": [
    "# weight_for_0 = (1 / COUNT_NORMAL)*(TRAIN_IMG_COUNT)/2.0 \n",
    "# weight_for_1 = (1 / COUNT_CPE)*(TRAIN_IMG_COUNT)/2.0\n",
    "\n",
    "# class_weight = {0: weight_for_0, 1: weight_for_1}\n",
    "\n",
    "# print('Weight for class 0: {:.2f}'.format(weight_for_0))\n",
    "# print('Weight for class 1: {:.2f}'.format(weight_for_1))"
   ]
  },
  {
   "cell_type": "markdown",
   "id": "6c0d4651",
   "metadata": {},
   "source": [
    "## Step 6. 모델 훈련\n",
    "\n",
    "#### GPU사용하여 model complie"
   ]
  },
  {
   "cell_type": "code",
   "execution_count": null,
   "id": "c9e685e1",
   "metadata": {},
   "outputs": [],
   "source": [
    "with tf.device('/GPU:0'):\n",
    "    METRICS = [\n",
    "        'accuracy',\n",
    "        tf.keras.metrics.Precision(name='precision'),\n",
    "        tf.keras.metrics.Recall(name='recall')\n",
    "    ]\n",
    "    \n",
    "    model.compile(\n",
    "        optimizer='adam',\n",
    "        loss='binary_crossentropy',\n",
    "        metrics=METRICS\n",
    "    )\n",
    "    \n",
    "    # early_stopping = tf.keras.callbacks.EarlyStopping(monitor = 'val_loss', patience = 2, restore_best_weights = True)\n",
    "    check_point = tf.keras.callbacks.ModelCheckpoint(ROOT_PATH + '/pre_training_model/best_model_base_0.h5')"
   ]
  },
  {
   "cell_type": "markdown",
   "id": "e9c0c808",
   "metadata": {},
   "source": [
    "#### 모델 fitting"
   ]
  },
  {
   "cell_type": "code",
   "execution_count": null,
   "id": "78d06ae2",
   "metadata": {},
   "outputs": [],
   "source": [
    "with tf.device('/GPU:0'):\n",
    "    history = model.fit(\n",
    "        train_ds,\n",
    "        steps_per_epoch=TRAIN_IMG_COUNT // BATCH_SIZE,\n",
    "        epochs=EPOCHS,\n",
    "        validation_data=val_ds,\n",
    "        validation_steps=VAL_IMG_COUNT // BATCH_SIZE,\n",
    "#         class_weight=class_weight,\n",
    "        callbacks=[check_point]\n",
    "    )"
   ]
  },
  {
   "cell_type": "markdown",
   "id": "72b6b5a2",
   "metadata": {},
   "source": [
    "## Step 7. 결과 확인 및 시각화"
   ]
  },
  {
   "cell_type": "code",
   "execution_count": null,
   "id": "89061ff1",
   "metadata": {},
   "outputs": [],
   "source": [
    "fig, ax = plt.subplots(2, 2, figsize=(10, 10))\n",
    "ax = ax.ravel()\n",
    "\n",
    "for i, met in enumerate(['precision', 'recall', 'accuracy', 'loss']):\n",
    "    ax[i].plot(history.history[met])\n",
    "    ax[i].plot(history.history['val_' + met])\n",
    "    ax[i].set_title('Model {}'.format(met))\n",
    "    ax[i].set_xlabel('epochs')\n",
    "    ax[i].set_ylabel(met)\n",
    "    ax[i].legend(['train', 'val'])"
   ]
  },
  {
   "cell_type": "markdown",
   "id": "64aaf94f",
   "metadata": {},
   "source": [
    "## Step 8. 최종 Test dataset 검정하기"
   ]
  },
  {
   "cell_type": "code",
   "execution_count": null,
   "id": "d6eecc47",
   "metadata": {},
   "outputs": [],
   "source": [
    "model = tf.keras.models.load_model(ROOT_PATH + '/pre_training_model/best_model_base_0.h5')\n",
    "loss, acc, prec, rec = model.evaluate(test_ds)"
   ]
  },
  {
   "cell_type": "markdown",
   "id": "b351ba9b",
   "metadata": {},
   "source": [
    "## Discussion"
   ]
  }
 ],
 "metadata": {
  "kernelspec": {
   "display_name": "aiffel",
   "language": "python",
   "name": "aiffel"
  },
  "language_info": {
   "codemirror_mode": {
    "name": "ipython",
    "version": 3
   },
   "file_extension": ".py",
   "mimetype": "text/x-python",
   "name": "python",
   "nbconvert_exporter": "python",
   "pygments_lexer": "ipython3",
   "version": "3.7.10"
  }
 },
 "nbformat": 4,
 "nbformat_minor": 5
}
