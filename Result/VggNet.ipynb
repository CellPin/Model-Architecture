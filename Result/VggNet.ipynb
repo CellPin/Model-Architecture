{
 "cells": [
  {
   "cell_type": "markdown",
   "id": "c31d41c6",
   "metadata": {},
   "source": [
    "# 1006개의 데이터로 Transfer_Learning 하기\n",
    "\n",
    "- 논문의 모델에 1006개의 데이터를 넣고 학습을 시켜보자\n",
    "\n",
    "## Step 1. 실험환경 set-up\n",
    "\n",
    "#### 라이브러리 실행"
   ]
  },
  {
   "cell_type": "code",
   "execution_count": 1,
   "id": "9f10fc5d",
   "metadata": {},
   "outputs": [],
   "source": [
    "from tensorflow.keras.models import Sequential, load_model\n",
    "\n",
    "import os           \n",
    "import numpy             as np  \n",
    "import tensorflow        as tf\n",
    "import matplotlib.pyplot as plt"
   ]
  },
  {
   "cell_type": "markdown",
   "id": "766ae4f6",
   "metadata": {},
   "source": [
    "#### 필요한 변수들 생성"
   ]
  },
  {
   "cell_type": "code",
   "execution_count": 2,
   "id": "3f4f18d7",
   "metadata": {},
   "outputs": [],
   "source": [
    "IMAGE_SIZE = [1024, 1360]                  # 이미지 사이즈 변수\n",
    "BATCH_SIZE = 32                            # BATCH_SIZE 변수\n",
    "EPOCHS     = 150                           # EPOCH 크기 변수\n",
    "AUTOTUNE   = tf.data.experimental.AUTOTUNE # 데이터 로드할 때 빠르게 로드할 수 있도록하는 설정 변수"
   ]
  },
  {
   "cell_type": "markdown",
   "id": "02bf3953",
   "metadata": {},
   "source": [
    "#### GPU 사용 여부보기"
   ]
  },
  {
   "cell_type": "code",
   "execution_count": 2,
   "id": "3c4f058c",
   "metadata": {},
   "outputs": [
    {
     "name": "stdout",
     "output_type": "stream",
     "text": [
      "Running on single GPU /device:GPU:0\n",
      "Number of accelerators: 1\n"
     ]
    }
   ],
   "source": [
    "gpus = tf.config.experimental.list_logical_devices(\"GPU\")\n",
    "\n",
    "if len(gpus) > 1:\n",
    "    strategy = tf.distribute.MirroredStrategy([gpu.name for gpu in gpus])\n",
    "    print(f\"Running on multiple GPUs {[gpu.name for gpu in gpus]}\")\n",
    "\n",
    "elif len(gpus) == 1:\n",
    "    strategy = tf.distribute.get_strategy()\n",
    "    print(f\"Running on single GPU {gpus[0].name}\")\n",
    "\n",
    "else:\n",
    "    strategy = tf.distribute.get_strategy()\n",
    "    print(\"Running on CPU\")\n",
    "\n",
    "print(f\"Number of accelerators: {strategy.num_replicas_in_sync}\")"
   ]
  },
  {
   "cell_type": "markdown",
   "id": "67127024",
   "metadata": {},
   "source": [
    "## Step 2. 데이터 준비하기\n",
    "\n",
    "먼저 아래의 링크에서 데이터를 다운 받을 것\n",
    "\n",
    "https://drive.google.com/drive/folders/1Pi5qyX080zY2IdGT1TvvLraBO9DHBxJl?usp=sharing\n",
    "\n",
    "받은 후 터미널 창에 아래의 명령어들을 차례로 입력\n",
    "\n",
    "```\n",
    "$ cd ~/Downloads && cp CellPin ~/aiffel\n",
    "```\n",
    "\n",
    "#### 데이터의 개수 확인"
   ]
  },
  {
   "cell_type": "code",
   "execution_count": 4,
   "id": "4887015e",
   "metadata": {},
   "outputs": [
    {
     "name": "stdout",
     "output_type": "stream",
     "text": [
      "/home/aiffel-dj52/aiffel/CellPin\n",
      "782\n",
      "104\n",
      "126\n"
     ]
    }
   ],
   "source": [
    "# 데이터 ROOT 경로 변수\n",
    "ROOT_PATH = os.path.join(os.getenv(\"HOME\"), \"aiffel/CellPin\")\n",
    "print(ROOT_PATH)\n",
    "\n",
    "# 각 데이터 불러오기\n",
    "train_filenames = tf.io.gfile.glob(str(ROOT_PATH + \"/train/*/*\"))\n",
    "test_filenames  = tf.io.gfile.glob(str(ROOT_PATH + \"/test/*/*\"))\n",
    "val_filenames   = tf.io.gfile.glob(str(ROOT_PATH + \"/val/*/*\"))\n",
    "\n",
    "# 데이터 갯수 확인하기\n",
    "print(len(train_filenames))\n",
    "print(len(test_filenames))\n",
    "print(len(val_filenames))"
   ]
  },
  {
   "cell_type": "markdown",
   "id": "d3aaa2c4",
   "metadata": {},
   "source": [
    "#### train 데이터 안에 정상 이미지 수와 CPE 이미지 수"
   ]
  },
  {
   "cell_type": "code",
   "execution_count": 6,
   "id": "6ef69930",
   "metadata": {},
   "outputs": [
    {
     "name": "stdout",
     "output_type": "stream",
     "text": [
      "NORMAL images count in training set: 355\n",
      "CPE images count in training set: 427\n"
     ]
    }
   ],
   "source": [
    "COUNT_NORMAL = len([filename for filename in train_filenames if \"normal\" in filename])\n",
    "print(\"NORMAL images count in training set: \" + str(COUNT_NORMAL))\n",
    "\n",
    "COUNT_CPE = len([filename for filename in train_filenames if \"cpe\" in filename])\n",
    "print(\"CPE images count in training set: \" + str(COUNT_CPE))"
   ]
  },
  {
   "cell_type": "markdown",
   "id": "2e73c681",
   "metadata": {},
   "source": [
    "#### val 데이터 안에 정상 이미지 수와 CPE 이미지 수"
   ]
  },
  {
   "cell_type": "code",
   "execution_count": 7,
   "id": "fd46568b",
   "metadata": {},
   "outputs": [
    {
     "name": "stdout",
     "output_type": "stream",
     "text": [
      "NORMAL images count in training set: 50\n",
      "CPE images count in training set: 76\n"
     ]
    }
   ],
   "source": [
    "COUNT_NORMAL = len([filename for filename in val_filenames if \"normal\" in filename])\n",
    "print(\"NORMAL images count in training set: \" + str(COUNT_NORMAL))\n",
    "\n",
    "COUNT_CPE = len([filename for filename in val_filenames if \"cpe\" in filename])\n",
    "print(\"CPE images count in training set: \" + str(COUNT_CPE))"
   ]
  },
  {
   "cell_type": "markdown",
   "id": "45e43e13",
   "metadata": {},
   "source": [
    "#### test 데이터 안에 정상 이미지 수와 CPE 이미지 수"
   ]
  },
  {
   "cell_type": "code",
   "execution_count": 8,
   "id": "ebbf4226",
   "metadata": {},
   "outputs": [
    {
     "name": "stdout",
     "output_type": "stream",
     "text": [
      "NORMAL images count in training set: 40\n",
      "CPE images count in training set: 64\n"
     ]
    }
   ],
   "source": [
    "COUNT_NORMAL = len([filename for filename in test_filenames if \"normal\" in filename])\n",
    "print(\"NORMAL images count in training set: \" + str(COUNT_NORMAL))\n",
    "\n",
    "COUNT_CPE = len([filename for filename in test_filenames if \"cpe\" in filename])\n",
    "print(\"CPE images count in training set: \" + str(COUNT_CPE))"
   ]
  },
  {
   "cell_type": "markdown",
   "id": "b24150c5",
   "metadata": {},
   "source": [
    "#### tf.data 인스턴스를 만들기"
   ]
  },
  {
   "cell_type": "code",
   "execution_count": 9,
   "id": "65cb5d19",
   "metadata": {},
   "outputs": [],
   "source": [
    "train_list_ds = tf.data.Dataset.from_tensor_slices(train_filenames)\n",
    "val_list_ds   = tf.data.Dataset.from_tensor_slices(val_filenames)"
   ]
  },
  {
   "cell_type": "markdown",
   "id": "04984291",
   "metadata": {},
   "source": [
    "#### train data와 val data의 개수 확인"
   ]
  },
  {
   "cell_type": "code",
   "execution_count": 10,
   "id": "3cee9d8d",
   "metadata": {},
   "outputs": [
    {
     "name": "stdout",
     "output_type": "stream",
     "text": [
      "Training images count: 782\n",
      "Validating images count: 126\n"
     ]
    }
   ],
   "source": [
    "TRAIN_IMG_COUNT = tf.data.experimental.cardinality(train_list_ds).numpy()\n",
    "print(\"Training images count: \" + str(TRAIN_IMG_COUNT))\n",
    "\n",
    "VAL_IMG_COUNT = tf.data.experimental.cardinality(val_list_ds).numpy()\n",
    "print(\"Validating images count: \" + str(VAL_IMG_COUNT))"
   ]
  },
  {
   "cell_type": "markdown",
   "id": "016756e4",
   "metadata": {},
   "source": [
    "#### 라벨 이름들 확인"
   ]
  },
  {
   "cell_type": "code",
   "execution_count": 11,
   "id": "7f92b6cc",
   "metadata": {},
   "outputs": [
    {
     "name": "stdout",
     "output_type": "stream",
     "text": [
      "['cpe' 'normal']\n"
     ]
    }
   ],
   "source": [
    "CLASS_NAMES = np.array([str(tf.strings.split(item, os.path.sep)[-1].numpy())[2:-1]\n",
    "                        for item in tf.io.gfile.glob(str(ROOT_PATH + \"/train/*\"))])\n",
    "print(CLASS_NAMES)"
   ]
  },
  {
   "cell_type": "markdown",
   "id": "903c5333",
   "metadata": {},
   "source": [
    "#### 라벨링 함수를 만들어 보기"
   ]
  },
  {
   "cell_type": "code",
   "execution_count": 12,
   "id": "f069e37d",
   "metadata": {},
   "outputs": [],
   "source": [
    "def get_label(file_path):\n",
    "    parts = tf.strings.split(file_path, os.path.sep)\n",
    "    return parts[-2] == \"cpe\""
   ]
  },
  {
   "cell_type": "markdown",
   "id": "50f13f2c",
   "metadata": {},
   "source": [
    "#### decode_img 함수와 process_path 함수를 만들기"
   ]
  },
  {
   "cell_type": "code",
   "execution_count": 13,
   "id": "27a7047a",
   "metadata": {},
   "outputs": [],
   "source": [
    "def decode_img(img):\n",
    "  # 이미지를 uint8 tensor로 바꾼다.\n",
    "  img = tf.image.decode_jpeg(img, channels = 1)\n",
    "    \n",
    "  # img를 범위 [0,1]의 float32 데이터 타입으로 바꾼다.\n",
    "  img = tf.image.convert_image_dtype(img, tf.float32)\n",
    "    \n",
    "  # img의 이미지 사이즈를 IMAGE_SIZE에서 지정한 사이즈로 수정한다.\n",
    "  return tf.image.resize(img, IMAGE_SIZE)\n",
    "\n",
    "def process_path(file_path):\n",
    "    label = get_label(file_path)\n",
    "    \n",
    "    if label == True:\n",
    "        label = ([0, 1])\n",
    "    else:\n",
    "        label = ([1, 0])\n",
    "        \n",
    "    img = tf.io.read_file(file_path)\n",
    "    img = decode_img(img)\n",
    "    \n",
    "    return img, label"
   ]
  },
  {
   "cell_type": "markdown",
   "id": "87dd2e74",
   "metadata": {},
   "source": [
    "#### train과 val에 함수들 적용해주기"
   ]
  },
  {
   "cell_type": "code",
   "execution_count": 14,
   "id": "ea88a7d5",
   "metadata": {},
   "outputs": [],
   "source": [
    "train_ds = train_list_ds.map(process_path, num_parallel_calls = AUTOTUNE)\n",
    "val_ds   = val_list_ds.map(process_path,   num_parallel_calls = AUTOTUNE)"
   ]
  },
  {
   "cell_type": "markdown",
   "id": "236be0d7",
   "metadata": {},
   "source": [
    "#### 전처리 함수 만들기 및 적용"
   ]
  },
  {
   "cell_type": "code",
   "execution_count": 16,
   "id": "54ce3cc6",
   "metadata": {},
   "outputs": [],
   "source": [
    "def prepare_for_training(ds, shuffle_buffer_size = 1000):\n",
    "    ds = ds.shuffle(buffer_size = shuffle_buffer_size)\n",
    "    ds = ds.repeat()\n",
    "    ds = ds.batch(BATCH_SIZE)\n",
    "    ds = ds.prefetch(buffer_size = AUTOTUNE)\n",
    "\n",
    "    return ds\n",
    "\n",
    "\n",
    "train_ds = prepare_for_training(train_ds)\n",
    "val_ds   = prepare_for_training(val_ds)"
   ]
  },
  {
   "cell_type": "markdown",
   "id": "167e6855",
   "metadata": {},
   "source": [
    "#### Image shape를 변경 체크하기"
   ]
  },
  {
   "cell_type": "code",
   "execution_count": 17,
   "id": "b8b76bae",
   "metadata": {},
   "outputs": [
    {
     "name": "stdout",
     "output_type": "stream",
     "text": [
      "Image shape:  (32, 256, 256, 3)\n",
      "Label:  (32, 2)\n"
     ]
    }
   ],
   "source": [
    "for image, label in train_ds.take(1):\n",
    "    print(\"Image shape :\", image.numpy().shape)\n",
    "    print(\"Label :\",       label.numpy().shape)"
   ]
  },
  {
   "cell_type": "markdown",
   "id": "e20b649e",
   "metadata": {},
   "source": [
    "#### test 데이터 셋도 만들어 보기 & 데이터의 갯수 확인"
   ]
  },
  {
   "cell_type": "code",
   "execution_count": 18,
   "id": "2a018387",
   "metadata": {},
   "outputs": [
    {
     "name": "stdout",
     "output_type": "stream",
     "text": [
      "104\n"
     ]
    }
   ],
   "source": [
    "test_list_ds     = tf.data.Dataset.list_files(str(ROOT_PATH + \"/test/*/*\"))\n",
    "TEST_IMAGE_COUNT = tf.data.experimental.cardinality(test_list_ds).numpy()\n",
    "test_ds          = test_list_ds.map(process_path, num_parallel_calls = AUTOTUNE)\n",
    "test_ds          = test_ds.batch(BATCH_SIZE)\n",
    "print(TEST_IMAGE_COUNT)"
   ]
  },
  {
   "cell_type": "markdown",
   "id": "4bbf3667",
   "metadata": {},
   "source": [
    "## Step 3. 데이터 시각화\n",
    "\n",
    "#### 16개의 샘플 꺼내서 확인"
   ]
  },
  {
   "cell_type": "code",
   "execution_count": 19,
   "id": "d3542178",
   "metadata": {},
   "outputs": [],
   "source": [
    "image_batch, label_batch = next(iter(train_ds))\n",
    "\n",
    "def show_batch(image_batch, label_batch):\n",
    "    plt.figure(figsize = (10,10))\n",
    "    \n",
    "    for n in range(16):\n",
    "        ax = plt.subplot(4, 4, n + 1)\n",
    "        plt.imshow(image_batch[n])\n",
    "        \n",
    "        if list(label_batch[n])[0].numpy() == 0:\n",
    "            plt.title(\"CPE\")\n",
    "        else:\n",
    "            plt.title(\"NORMAL\")\n",
    "        \n",
    "        plt.axis(\"off\")\n",
    "\n",
    "        \n",
    "show_batch(image_batch.numpy(), label_batch)"
   ]
  },
  {
   "cell_type": "markdown",
   "id": "5b760167",
   "metadata": {},
   "source": [
    "#### model building(VGG19, Freeze)"
   ]
  },
  {
   "cell_type": "code",
   "execution_count": 20,
   "id": "df1512e9",
   "metadata": {},
   "outputs": [],
   "source": [
    "with strategy.scope():\n",
    "    vgg_layer = tf.keras.applications.VGG19(include_top           = False,\n",
    "                                            weights               = \"imagenet\",\n",
    "                                            input_shape           = (256, 256, 3),\n",
    "                                            classes               = 2,\n",
    "                                            classifier_activation = \"softmax\")\n",
    "    \n",
    "    fc_layer = [\n",
    "        tf.keras.layers.Flatten(),\n",
    "        \n",
    "        tf.keras.layers.Dense(4096),\n",
    "        tf.keras.layers.Activation(\"relu\"),\n",
    "        tf.keras.layers.Dropout(0.5),\n",
    "        \n",
    "        tf.keras.layers.Dense(4096),\n",
    "        tf.keras.layers.Activation(\"relu\"),\n",
    "        tf.keras.layers.Dropout(0.5),\n",
    "        \n",
    "        tf.keras.layers.Dense(2),\n",
    "        tf.keras.layers.Activation(\"softmax\")\n",
    "    ]"
   ]
  },
  {
   "cell_type": "code",
   "execution_count": 22,
   "id": "9c404428",
   "metadata": {},
   "outputs": [
    {
     "data": {
      "text/plain": [
       "False"
      ]
     },
     "execution_count": 22,
     "metadata": {},
     "output_type": "execute_result"
    }
   ],
   "source": [
    "with strategy.scope():\n",
    "    vgg_layer.trainable = False\n",
    "\n",
    "vgg_layer.trainable"
   ]
  },
  {
   "cell_type": "code",
   "execution_count": 23,
   "id": "3ac64274",
   "metadata": {},
   "outputs": [],
   "source": [
    "vgg19 = tf.keras.models.Sequential([vgg_layer] + fc_layer)"
   ]
  },
  {
   "cell_type": "code",
   "execution_count": 24,
   "id": "79914301",
   "metadata": {},
   "outputs": [
    {
     "name": "stdout",
     "output_type": "stream",
     "text": [
      "Model: \"sequential\"\n",
      "_________________________________________________________________\n",
      "Layer (type)                 Output Shape              Param #   \n",
      "=================================================================\n",
      "vgg19 (Functional)           (None, 8, 8, 512)         20024384  \n",
      "_________________________________________________________________\n",
      "flatten (Flatten)            (None, 32768)             0         \n",
      "_________________________________________________________________\n",
      "dense (Dense)                (None, 4096)              134221824 \n",
      "_________________________________________________________________\n",
      "activation (Activation)      (None, 4096)              0         \n",
      "_________________________________________________________________\n",
      "dropout (Dropout)            (None, 4096)              0         \n",
      "_________________________________________________________________\n",
      "dense_1 (Dense)              (None, 4096)              16781312  \n",
      "_________________________________________________________________\n",
      "activation_1 (Activation)    (None, 4096)              0         \n",
      "_________________________________________________________________\n",
      "dropout_1 (Dropout)          (None, 4096)              0         \n",
      "_________________________________________________________________\n",
      "dense_2 (Dense)              (None, 2)                 8194      \n",
      "_________________________________________________________________\n",
      "activation_2 (Activation)    (None, 2)                 0         \n",
      "=================================================================\n",
      "Total params: 171,035,714\n",
      "Trainable params: 151,011,330\n",
      "Non-trainable params: 20,024,384\n",
      "_________________________________________________________________\n"
     ]
    }
   ],
   "source": [
    "vgg19.summary()"
   ]
  },
  {
   "cell_type": "markdown",
   "id": "a3e4d959",
   "metadata": {},
   "source": [
    "## Step 4. 모델 훈련\n",
    "\n",
    "#### GPU사용하여 model complie"
   ]
  },
  {
   "cell_type": "code",
   "execution_count": 27,
   "id": "3aceed3c",
   "metadata": {},
   "outputs": [],
   "source": [
    "with strategy.scope():\n",
    "    METRICS = [\n",
    "        \"accuracy\",\n",
    "        tf.keras.metrics.Precision(name = \"precision\"),\n",
    "        tf.keras.metrics.Recall(name    = \"recall\")\n",
    "    ]\n",
    "    \n",
    "    vgg19.compile(\n",
    "        optimizer = \"adam\",\n",
    "        loss      = \"binary_crossentropy\",\n",
    "        metrics   = METRICS\n",
    "    )\n",
    "    \n",
    "    check_point = tf.keras.callbacks.ModelCheckpoint(ROOT_PATH + \"/pre_training_model/best_model_vgg19_1.h5\")"
   ]
  },
  {
   "cell_type": "markdown",
   "id": "cda8c029",
   "metadata": {},
   "source": [
    "#### 모델 fitting"
   ]
  },
  {
   "cell_type": "code",
   "execution_count": 28,
   "id": "4ff37091",
   "metadata": {},
   "outputs": [
    {
     "name": "stdout",
     "output_type": "stream",
     "text": [
      "Epoch 1/150\n",
      "24/24 [==============================] - 163s 6s/step - loss: 4.0028 - accuracy: 0.6549 - precision: 0.6549 - recall: 0.6549 - val_loss: 0.3937 - val_accuracy: 0.8229 - val_precision: 0.8229 - val_recall: 0.8229\n",
      "Epoch 2/150\n",
      "24/24 [==============================] - 140s 6s/step - loss: 0.4248 - accuracy: 0.8294 - precision: 0.8294 - recall: 0.8294 - val_loss: 0.3879 - val_accuracy: 0.8125 - val_precision: 0.8125 - val_recall: 0.8125\n",
      "Epoch 3/150\n",
      "24/24 [==============================] - 141s 6s/step - loss: 0.3778 - accuracy: 0.8385 - precision: 0.8385 - recall: 0.8385 - val_loss: 0.3616 - val_accuracy: 0.8646 - val_precision: 0.8646 - val_recall: 0.8646\n",
      "Epoch 4/150\n",
      "24/24 [==============================] - 141s 6s/step - loss: 0.3586 - accuracy: 0.8451 - precision: 0.8451 - recall: 0.8451 - val_loss: 0.3494 - val_accuracy: 0.8646 - val_precision: 0.8646 - val_recall: 0.8646\n",
      "Epoch 5/150\n",
      "24/24 [==============================] - 140s 6s/step - loss: 0.3643 - accuracy: 0.8568 - precision: 0.8568 - recall: 0.8568 - val_loss: 0.3449 - val_accuracy: 0.8438 - val_precision: 0.8438 - val_recall: 0.8438\n",
      "Epoch 6/150\n",
      "24/24 [==============================] - 140s 6s/step - loss: 0.3823 - accuracy: 0.8411 - precision: 0.8411 - recall: 0.8411 - val_loss: 0.4041 - val_accuracy: 0.8438 - val_precision: 0.8438 - val_recall: 0.8438\n",
      "Epoch 7/150\n",
      "24/24 [==============================] - 142s 6s/step - loss: 0.3212 - accuracy: 0.8763 - precision: 0.8763 - recall: 0.8763 - val_loss: 0.3076 - val_accuracy: 0.8542 - val_precision: 0.8542 - val_recall: 0.8542\n",
      "Epoch 8/150\n",
      "24/24 [==============================] - 140s 6s/step - loss: 0.3149 - accuracy: 0.8750 - precision: 0.8750 - recall: 0.8750 - val_loss: 0.2978 - val_accuracy: 0.8958 - val_precision: 0.8958 - val_recall: 0.8958\n",
      "Epoch 9/150\n",
      "24/24 [==============================] - 140s 6s/step - loss: 0.2956 - accuracy: 0.8802 - precision: 0.8802 - recall: 0.8802 - val_loss: 0.2716 - val_accuracy: 0.8958 - val_precision: 0.8958 - val_recall: 0.8958\n",
      "Epoch 10/150\n",
      "24/24 [==============================] - 142s 6s/step - loss: 0.2932 - accuracy: 0.8815 - precision: 0.8815 - recall: 0.8815 - val_loss: 0.2878 - val_accuracy: 0.8646 - val_precision: 0.8646 - val_recall: 0.8646\n",
      "Epoch 11/150\n",
      "24/24 [==============================] - 141s 6s/step - loss: 0.3833 - accuracy: 0.8372 - precision: 0.8372 - recall: 0.8372 - val_loss: 0.3135 - val_accuracy: 0.8958 - val_precision: 0.8958 - val_recall: 0.8958\n",
      "Epoch 12/150\n",
      "24/24 [==============================] - 140s 6s/step - loss: 0.3489 - accuracy: 0.8424 - precision: 0.8424 - recall: 0.8424 - val_loss: 0.2758 - val_accuracy: 0.9062 - val_precision: 0.9062 - val_recall: 0.9062\n",
      "Epoch 13/150\n",
      "24/24 [==============================] - 140s 6s/step - loss: 0.3228 - accuracy: 0.8451 - precision: 0.8451 - recall: 0.8451 - val_loss: 0.2655 - val_accuracy: 0.8958 - val_precision: 0.8958 - val_recall: 0.8958\n",
      "Epoch 14/150\n",
      "24/24 [==============================] - 140s 6s/step - loss: 0.3262 - accuracy: 0.8438 - precision: 0.8438 - recall: 0.8438 - val_loss: 0.2306 - val_accuracy: 0.8854 - val_precision: 0.8854 - val_recall: 0.8854\n",
      "Epoch 15/150\n",
      "24/24 [==============================] - 140s 6s/step - loss: 0.3283 - accuracy: 0.8268 - precision: 0.8268 - recall: 0.8268 - val_loss: 0.2646 - val_accuracy: 0.8958 - val_precision: 0.8958 - val_recall: 0.8958\n",
      "Epoch 16/150\n",
      "24/24 [==============================] - 140s 6s/step - loss: 0.3228 - accuracy: 0.8359 - precision: 0.8359 - recall: 0.8359 - val_loss: 0.3019 - val_accuracy: 0.8542 - val_precision: 0.8542 - val_recall: 0.8542\n",
      "Epoch 17/150\n",
      "24/24 [==============================] - 139s 6s/step - loss: 0.3803 - accuracy: 0.8320 - precision: 0.8320 - recall: 0.8320 - val_loss: 0.3297 - val_accuracy: 0.8958 - val_precision: 0.8958 - val_recall: 0.8958\n",
      "Epoch 18/150\n",
      "24/24 [==============================] - 139s 6s/step - loss: 0.3113 - accuracy: 0.8438 - precision: 0.8438 - recall: 0.8438 - val_loss: 0.2285 - val_accuracy: 0.9062 - val_precision: 0.9062 - val_recall: 0.9062\n",
      "Epoch 19/150\n",
      "24/24 [==============================] - 140s 6s/step - loss: 0.2653 - accuracy: 0.8750 - precision: 0.8750 - recall: 0.8750 - val_loss: 0.2187 - val_accuracy: 0.9167 - val_precision: 0.9167 - val_recall: 0.9167\n",
      "Epoch 20/150\n",
      "24/24 [==============================] - 140s 6s/step - loss: 0.3157 - accuracy: 0.8477 - precision: 0.8477 - recall: 0.8477 - val_loss: 0.1976 - val_accuracy: 0.9062 - val_precision: 0.9062 - val_recall: 0.9062\n",
      "Epoch 21/150\n",
      "24/24 [==============================] - 139s 6s/step - loss: 0.2808 - accuracy: 0.8841 - precision: 0.8841 - recall: 0.8841 - val_loss: 0.2735 - val_accuracy: 0.8958 - val_precision: 0.8958 - val_recall: 0.8958\n",
      "Epoch 22/150\n",
      "24/24 [==============================] - 139s 6s/step - loss: 0.2745 - accuracy: 0.8802 - precision: 0.8802 - recall: 0.8802 - val_loss: 0.2356 - val_accuracy: 0.8958 - val_precision: 0.8958 - val_recall: 0.8958\n",
      "Epoch 23/150\n",
      "24/24 [==============================] - 140s 6s/step - loss: 0.2231 - accuracy: 0.9036 - precision: 0.9036 - recall: 0.9036 - val_loss: 0.2295 - val_accuracy: 0.8958 - val_precision: 0.8958 - val_recall: 0.8958\n",
      "Epoch 24/150\n",
      "24/24 [==============================] - 139s 6s/step - loss: 0.2774 - accuracy: 0.8672 - precision: 0.8672 - recall: 0.8672 - val_loss: 0.2603 - val_accuracy: 0.9062 - val_precision: 0.9062 - val_recall: 0.9062\n",
      "Epoch 25/150\n",
      "24/24 [==============================] - 139s 6s/step - loss: 0.3173 - accuracy: 0.8320 - precision: 0.8320 - recall: 0.8320 - val_loss: 0.2273 - val_accuracy: 0.9271 - val_precision: 0.9271 - val_recall: 0.9271\n",
      "Epoch 26/150\n",
      "24/24 [==============================] - 139s 6s/step - loss: 0.2729 - accuracy: 0.8542 - precision: 0.8542 - recall: 0.8542 - val_loss: 0.2367 - val_accuracy: 0.9167 - val_precision: 0.9167 - val_recall: 0.9167\n",
      "Epoch 27/150\n",
      "24/24 [==============================] - 140s 6s/step - loss: 0.2884 - accuracy: 0.8737 - precision: 0.8737 - recall: 0.8737 - val_loss: 0.2747 - val_accuracy: 0.8750 - val_precision: 0.8750 - val_recall: 0.8750\n",
      "Epoch 28/150\n",
      "24/24 [==============================] - 139s 6s/step - loss: 0.2580 - accuracy: 0.8737 - precision: 0.8737 - recall: 0.8737 - val_loss: 0.2383 - val_accuracy: 0.9167 - val_precision: 0.9167 - val_recall: 0.9167\n",
      "Epoch 29/150\n",
      "24/24 [==============================] - 139s 6s/step - loss: 0.2534 - accuracy: 0.8919 - precision: 0.8919 - recall: 0.8919 - val_loss: 0.2175 - val_accuracy: 0.9062 - val_precision: 0.9062 - val_recall: 0.9062\n",
      "Epoch 30/150\n",
      "24/24 [==============================] - 140s 6s/step - loss: 0.2223 - accuracy: 0.8893 - precision: 0.8893 - recall: 0.8893 - val_loss: 0.2398 - val_accuracy: 0.9167 - val_precision: 0.9167 - val_recall: 0.9167\n",
      "Epoch 31/150\n",
      "24/24 [==============================] - 139s 6s/step - loss: 0.2453 - accuracy: 0.8997 - precision: 0.8997 - recall: 0.8997 - val_loss: 0.2350 - val_accuracy: 0.9062 - val_precision: 0.9062 - val_recall: 0.9062\n",
      "Epoch 32/150\n",
      "24/24 [==============================] - 140s 6s/step - loss: 0.2349 - accuracy: 0.8919 - precision: 0.8919 - recall: 0.8919 - val_loss: 0.2290 - val_accuracy: 0.9062 - val_precision: 0.9062 - val_recall: 0.9062\n",
      "Epoch 33/150\n",
      "24/24 [==============================] - 140s 6s/step - loss: 0.2627 - accuracy: 0.8724 - precision: 0.8724 - recall: 0.8724 - val_loss: 0.1881 - val_accuracy: 0.9271 - val_precision: 0.9271 - val_recall: 0.9271\n",
      "Epoch 34/150\n",
      "24/24 [==============================] - 140s 6s/step - loss: 0.2771 - accuracy: 0.8711 - precision: 0.8711 - recall: 0.8711 - val_loss: 0.2973 - val_accuracy: 0.8958 - val_precision: 0.8958 - val_recall: 0.8958\n",
      "Epoch 35/150\n",
      "24/24 [==============================] - 139s 6s/step - loss: 0.3706 - accuracy: 0.8346 - precision: 0.8346 - recall: 0.8346 - val_loss: 0.2519 - val_accuracy: 0.9062 - val_precision: 0.9062 - val_recall: 0.9062\n",
      "Epoch 36/150\n",
      "24/24 [==============================] - 139s 6s/step - loss: 0.3415 - accuracy: 0.8581 - precision: 0.8581 - recall: 0.8581 - val_loss: 0.2250 - val_accuracy: 0.9062 - val_precision: 0.9062 - val_recall: 0.9062\n",
      "Epoch 37/150\n",
      "24/24 [==============================] - 139s 6s/step - loss: 0.3012 - accuracy: 0.8555 - precision: 0.8555 - recall: 0.8555 - val_loss: 0.2310 - val_accuracy: 0.8958 - val_precision: 0.8958 - val_recall: 0.8958\n",
      "Epoch 38/150\n",
      "24/24 [==============================] - 140s 6s/step - loss: 0.2793 - accuracy: 0.8672 - precision: 0.8672 - recall: 0.8672 - val_loss: 0.2586 - val_accuracy: 0.8958 - val_precision: 0.8958 - val_recall: 0.8958\n",
      "Epoch 39/150\n",
      "24/24 [==============================] - 140s 6s/step - loss: 0.3091 - accuracy: 0.8516 - precision: 0.8516 - recall: 0.8516 - val_loss: 0.2574 - val_accuracy: 0.9167 - val_precision: 0.9167 - val_recall: 0.9167\n",
      "Epoch 40/150\n",
      "24/24 [==============================] - 140s 6s/step - loss: 0.3258 - accuracy: 0.8294 - precision: 0.8294 - recall: 0.8294 - val_loss: 0.2373 - val_accuracy: 0.8958 - val_precision: 0.8958 - val_recall: 0.8958\n",
      "Epoch 41/150\n",
      "24/24 [==============================] - 139s 6s/step - loss: 0.2942 - accuracy: 0.8594 - precision: 0.8594 - recall: 0.8594 - val_loss: 0.2337 - val_accuracy: 0.9167 - val_precision: 0.9167 - val_recall: 0.9167\n",
      "Epoch 42/150\n",
      "24/24 [==============================] - 140s 6s/step - loss: 0.3153 - accuracy: 0.8555 - precision: 0.8555 - recall: 0.8555 - val_loss: 0.2459 - val_accuracy: 0.9271 - val_precision: 0.9271 - val_recall: 0.9271\n",
      "Epoch 43/150\n",
      "24/24 [==============================] - 140s 6s/step - loss: 0.3757 - accuracy: 0.8294 - precision: 0.8294 - recall: 0.8294 - val_loss: 0.3143 - val_accuracy: 0.8646 - val_precision: 0.8646 - val_recall: 0.8646\n",
      "Epoch 44/150\n",
      "24/24 [==============================] - 140s 6s/step - loss: 0.3040 - accuracy: 0.8828 - precision: 0.8828 - recall: 0.8828 - val_loss: 0.2746 - val_accuracy: 0.8854 - val_precision: 0.8854 - val_recall: 0.8854\n",
      "Epoch 45/150\n",
      "24/24 [==============================] - 139s 6s/step - loss: 0.2962 - accuracy: 0.8802 - precision: 0.8802 - recall: 0.8802 - val_loss: 0.2606 - val_accuracy: 0.9062 - val_precision: 0.9062 - val_recall: 0.9062\n",
      "Epoch 46/150\n",
      "24/24 [==============================] - 140s 6s/step - loss: 0.3128 - accuracy: 0.8633 - precision: 0.8633 - recall: 0.8633 - val_loss: 0.2676 - val_accuracy: 0.8750 - val_precision: 0.8750 - val_recall: 0.8750\n",
      "Epoch 47/150\n",
      "24/24 [==============================] - 140s 6s/step - loss: 0.3291 - accuracy: 0.8464 - precision: 0.8464 - recall: 0.8464 - val_loss: 0.4137 - val_accuracy: 0.8229 - val_precision: 0.8229 - val_recall: 0.8229\n",
      "Epoch 48/150\n",
      "24/24 [==============================] - 139s 6s/step - loss: 0.3140 - accuracy: 0.8763 - precision: 0.8763 - recall: 0.8763 - val_loss: 0.2436 - val_accuracy: 0.8958 - val_precision: 0.8958 - val_recall: 0.8958\n",
      "Epoch 49/150\n",
      "24/24 [==============================] - 140s 6s/step - loss: 0.2803 - accuracy: 0.8932 - precision: 0.8932 - recall: 0.8932 - val_loss: 0.2288 - val_accuracy: 0.9375 - val_precision: 0.9375 - val_recall: 0.9375\n",
      "Epoch 50/150\n",
      "24/24 [==============================] - 140s 6s/step - loss: 0.2977 - accuracy: 0.8737 - precision: 0.8737 - recall: 0.8737 - val_loss: 0.2635 - val_accuracy: 0.8958 - val_precision: 0.8958 - val_recall: 0.8958\n",
      "Epoch 51/150\n",
      "24/24 [==============================] - 141s 6s/step - loss: 0.2748 - accuracy: 0.8789 - precision: 0.8789 - recall: 0.8789 - val_loss: 0.2759 - val_accuracy: 0.8750 - val_precision: 0.8750 - val_recall: 0.8750\n",
      "Epoch 52/150\n",
      "24/24 [==============================] - 140s 6s/step - loss: 0.3088 - accuracy: 0.8542 - precision: 0.8542 - recall: 0.8542 - val_loss: 0.3872 - val_accuracy: 0.8021 - val_precision: 0.8021 - val_recall: 0.8021\n",
      "Epoch 53/150\n",
      "24/24 [==============================] - 139s 6s/step - loss: 0.3397 - accuracy: 0.8229 - precision: 0.8229 - recall: 0.8229 - val_loss: 0.2357 - val_accuracy: 0.9167 - val_precision: 0.9167 - val_recall: 0.9167\n",
      "Epoch 54/150\n",
      "24/24 [==============================] - 139s 6s/step - loss: 0.3090 - accuracy: 0.8555 - precision: 0.8555 - recall: 0.8555 - val_loss: 0.3072 - val_accuracy: 0.8958 - val_precision: 0.8958 - val_recall: 0.8958\n",
      "Epoch 55/150\n",
      "24/24 [==============================] - 140s 6s/step - loss: 0.2740 - accuracy: 0.8789 - precision: 0.8789 - recall: 0.8789 - val_loss: 0.2402 - val_accuracy: 0.9167 - val_precision: 0.9167 - val_recall: 0.9167\n",
      "Epoch 56/150\n",
      "24/24 [==============================] - 140s 6s/step - loss: 0.2870 - accuracy: 0.8607 - precision: 0.8607 - recall: 0.8607 - val_loss: 0.2250 - val_accuracy: 0.9062 - val_precision: 0.9062 - val_recall: 0.9062\n",
      "Epoch 57/150\n",
      "24/24 [==============================] - 139s 6s/step - loss: 0.2701 - accuracy: 0.8789 - precision: 0.8789 - recall: 0.8789 - val_loss: 0.2645 - val_accuracy: 0.9062 - val_precision: 0.9062 - val_recall: 0.9062\n",
      "Epoch 58/150\n",
      "24/24 [==============================] - 140s 6s/step - loss: 0.2843 - accuracy: 0.8659 - precision: 0.8659 - recall: 0.8659 - val_loss: 0.2824 - val_accuracy: 0.8750 - val_precision: 0.8750 - val_recall: 0.8750\n",
      "Epoch 59/150\n",
      "24/24 [==============================] - 140s 6s/step - loss: 0.2769 - accuracy: 0.8685 - precision: 0.8685 - recall: 0.8685 - val_loss: 0.2266 - val_accuracy: 0.9062 - val_precision: 0.9062 - val_recall: 0.9062\n",
      "Epoch 60/150\n",
      "24/24 [==============================] - 140s 6s/step - loss: 0.2609 - accuracy: 0.8828 - precision: 0.8828 - recall: 0.8828 - val_loss: 0.2464 - val_accuracy: 0.9062 - val_precision: 0.9062 - val_recall: 0.9062\n",
      "Epoch 61/150\n",
      "24/24 [==============================] - 139s 6s/step - loss: 0.2441 - accuracy: 0.8828 - precision: 0.8828 - recall: 0.8828 - val_loss: 0.2145 - val_accuracy: 0.9062 - val_precision: 0.9062 - val_recall: 0.9062\n",
      "Epoch 62/150\n",
      "24/24 [==============================] - 140s 6s/step - loss: 0.2933 - accuracy: 0.8633 - precision: 0.8633 - recall: 0.8633 - val_loss: 0.2659 - val_accuracy: 0.8854 - val_precision: 0.8854 - val_recall: 0.8854\n",
      "Epoch 63/150\n",
      "24/24 [==============================] - 140s 6s/step - loss: 0.2852 - accuracy: 0.8906 - precision: 0.8906 - recall: 0.8906 - val_loss: 0.3081 - val_accuracy: 0.8854 - val_precision: 0.8854 - val_recall: 0.8854\n",
      "Epoch 64/150\n",
      "24/24 [==============================] - 139s 6s/step - loss: 0.2806 - accuracy: 0.8906 - precision: 0.8906 - recall: 0.8906 - val_loss: 0.2502 - val_accuracy: 0.9062 - val_precision: 0.9062 - val_recall: 0.9062\n",
      "Epoch 65/150\n",
      "24/24 [==============================] - 140s 6s/step - loss: 0.3252 - accuracy: 0.8555 - precision: 0.8555 - recall: 0.8555 - val_loss: 0.2040 - val_accuracy: 0.9375 - val_precision: 0.9375 - val_recall: 0.9375\n",
      "Epoch 66/150\n",
      "24/24 [==============================] - 140s 6s/step - loss: 0.3368 - accuracy: 0.8542 - precision: 0.8542 - recall: 0.8542 - val_loss: 0.2286 - val_accuracy: 0.9167 - val_precision: 0.9167 - val_recall: 0.9167\n",
      "Epoch 67/150\n",
      "24/24 [==============================] - 140s 6s/step - loss: 0.2638 - accuracy: 0.8971 - precision: 0.8971 - recall: 0.8971 - val_loss: 0.2538 - val_accuracy: 0.8854 - val_precision: 0.8854 - val_recall: 0.8854\n",
      "Epoch 68/150\n",
      "24/24 [==============================] - 139s 6s/step - loss: 0.2544 - accuracy: 0.9036 - precision: 0.9036 - recall: 0.9036 - val_loss: 0.2119 - val_accuracy: 0.9167 - val_precision: 0.9167 - val_recall: 0.9167\n",
      "Epoch 69/150\n",
      "24/24 [==============================] - 140s 6s/step - loss: 0.3582 - accuracy: 0.8451 - precision: 0.8451 - recall: 0.8451 - val_loss: 0.2562 - val_accuracy: 0.9062 - val_precision: 0.9062 - val_recall: 0.9062\n",
      "Epoch 70/150\n",
      "24/24 [==============================] - 140s 6s/step - loss: 0.3373 - accuracy: 0.8516 - precision: 0.8516 - recall: 0.8516 - val_loss: 0.2289 - val_accuracy: 0.9062 - val_precision: 0.9062 - val_recall: 0.9062\n",
      "Epoch 71/150\n",
      "24/24 [==============================] - 140s 6s/step - loss: 0.3072 - accuracy: 0.8789 - precision: 0.8789 - recall: 0.8789 - val_loss: 0.2699 - val_accuracy: 0.8958 - val_precision: 0.8958 - val_recall: 0.8958\n",
      "Epoch 72/150\n",
      "24/24 [==============================] - 139s 6s/step - loss: 0.2611 - accuracy: 0.8984 - precision: 0.8984 - recall: 0.8984 - val_loss: 0.1925 - val_accuracy: 0.9375 - val_precision: 0.9375 - val_recall: 0.9375\n",
      "Epoch 73/150\n"
     ]
    },
    {
     "name": "stdout",
     "output_type": "stream",
     "text": [
      "24/24 [==============================] - 140s 6s/step - loss: 0.3436 - accuracy: 0.8503 - precision: 0.8503 - recall: 0.8503 - val_loss: 0.2811 - val_accuracy: 0.8958 - val_precision: 0.8958 - val_recall: 0.8958\n",
      "Epoch 74/150\n",
      "24/24 [==============================] - 139s 6s/step - loss: 0.3399 - accuracy: 0.8568 - precision: 0.8568 - recall: 0.8568 - val_loss: 0.2200 - val_accuracy: 0.9271 - val_precision: 0.9271 - val_recall: 0.9271\n",
      "Epoch 75/150\n",
      "24/24 [==============================] - 140s 6s/step - loss: 0.3410 - accuracy: 0.8503 - precision: 0.8503 - recall: 0.8503 - val_loss: 0.2687 - val_accuracy: 0.9062 - val_precision: 0.9062 - val_recall: 0.9062\n",
      "Epoch 76/150\n",
      "24/24 [==============================] - 139s 6s/step - loss: 0.3213 - accuracy: 0.8568 - precision: 0.8568 - recall: 0.8568 - val_loss: 0.2459 - val_accuracy: 0.8958 - val_precision: 0.8958 - val_recall: 0.8958\n",
      "Epoch 77/150\n",
      "24/24 [==============================] - 140s 6s/step - loss: 0.2850 - accuracy: 0.8763 - precision: 0.8763 - recall: 0.8763 - val_loss: 0.1985 - val_accuracy: 0.9167 - val_precision: 0.9167 - val_recall: 0.9167\n",
      "Epoch 78/150\n",
      "24/24 [==============================] - 140s 6s/step - loss: 0.3111 - accuracy: 0.8490 - precision: 0.8490 - recall: 0.8490 - val_loss: 0.2109 - val_accuracy: 0.9271 - val_precision: 0.9271 - val_recall: 0.9271\n",
      "Epoch 79/150\n",
      "24/24 [==============================] - 140s 6s/step - loss: 0.3322 - accuracy: 0.8177 - precision: 0.8177 - recall: 0.8177 - val_loss: 0.2303 - val_accuracy: 0.9271 - val_precision: 0.9271 - val_recall: 0.9271\n",
      "Epoch 80/150\n",
      "24/24 [==============================] - 140s 6s/step - loss: 0.3199 - accuracy: 0.8385 - precision: 0.8385 - recall: 0.8385 - val_loss: 0.1981 - val_accuracy: 0.9271 - val_precision: 0.9271 - val_recall: 0.9271\n",
      "Epoch 81/150\n",
      "24/24 [==============================] - 140s 6s/step - loss: 0.2566 - accuracy: 0.8945 - precision: 0.8945 - recall: 0.8945 - val_loss: 0.2174 - val_accuracy: 0.9271 - val_precision: 0.9271 - val_recall: 0.9271\n",
      "Epoch 82/150\n",
      "24/24 [==============================] - 140s 6s/step - loss: 0.2377 - accuracy: 0.8906 - precision: 0.8906 - recall: 0.8906 - val_loss: 0.1641 - val_accuracy: 0.9375 - val_precision: 0.9375 - val_recall: 0.9375\n",
      "Epoch 83/150\n",
      "24/24 [==============================] - 139s 6s/step - loss: 0.2670 - accuracy: 0.8789 - precision: 0.8789 - recall: 0.8789 - val_loss: 0.2241 - val_accuracy: 0.9062 - val_precision: 0.9062 - val_recall: 0.9062\n",
      "Epoch 84/150\n",
      "24/24 [==============================] - 140s 6s/step - loss: 0.2124 - accuracy: 0.9089 - precision: 0.9089 - recall: 0.9089 - val_loss: 0.2228 - val_accuracy: 0.9062 - val_precision: 0.9062 - val_recall: 0.9062\n",
      "Epoch 85/150\n",
      "24/24 [==============================] - 140s 6s/step - loss: 0.2340 - accuracy: 0.8932 - precision: 0.8932 - recall: 0.8932 - val_loss: 0.2307 - val_accuracy: 0.9062 - val_precision: 0.9062 - val_recall: 0.9062\n",
      "Epoch 86/150\n",
      "24/24 [==============================] - 140s 6s/step - loss: 0.2029 - accuracy: 0.9076 - precision: 0.9076 - recall: 0.9076 - val_loss: 0.1794 - val_accuracy: 0.9271 - val_precision: 0.9271 - val_recall: 0.9271\n",
      "Epoch 87/150\n",
      "24/24 [==============================] - 140s 6s/step - loss: 0.2408 - accuracy: 0.8828 - precision: 0.8828 - recall: 0.8828 - val_loss: 0.2148 - val_accuracy: 0.8958 - val_precision: 0.8958 - val_recall: 0.8958\n",
      "Epoch 88/150\n",
      "24/24 [==============================] - 140s 6s/step - loss: 0.2866 - accuracy: 0.8633 - precision: 0.8633 - recall: 0.8633 - val_loss: 0.2072 - val_accuracy: 0.9271 - val_precision: 0.9271 - val_recall: 0.9271\n",
      "Epoch 89/150\n",
      "24/24 [==============================] - 140s 6s/step - loss: 0.3172 - accuracy: 0.8151 - precision: 0.8151 - recall: 0.8151 - val_loss: 0.1978 - val_accuracy: 0.9062 - val_precision: 0.9062 - val_recall: 0.9062\n",
      "Epoch 90/150\n",
      "24/24 [==============================] - 140s 6s/step - loss: 0.2763 - accuracy: 0.8477 - precision: 0.8477 - recall: 0.8477 - val_loss: 0.2084 - val_accuracy: 0.9271 - val_precision: 0.9271 - val_recall: 0.9271\n",
      "Epoch 91/150\n",
      "24/24 [==============================] - 140s 6s/step - loss: 0.2468 - accuracy: 0.8945 - precision: 0.8945 - recall: 0.8945 - val_loss: 0.1924 - val_accuracy: 0.9167 - val_precision: 0.9167 - val_recall: 0.9167\n",
      "Epoch 92/150\n",
      "24/24 [==============================] - 140s 6s/step - loss: 0.2364 - accuracy: 0.8854 - precision: 0.8854 - recall: 0.8854 - val_loss: 0.2641 - val_accuracy: 0.8854 - val_precision: 0.8854 - val_recall: 0.8854\n",
      "Epoch 93/150\n",
      "24/24 [==============================] - 140s 6s/step - loss: 0.2568 - accuracy: 0.8737 - precision: 0.8737 - recall: 0.8737 - val_loss: 0.2789 - val_accuracy: 0.8854 - val_precision: 0.8854 - val_recall: 0.8854\n",
      "Epoch 94/150\n",
      "24/24 [==============================] - 140s 6s/step - loss: 0.2035 - accuracy: 0.9076 - precision: 0.9076 - recall: 0.9076 - val_loss: 0.2339 - val_accuracy: 0.8958 - val_precision: 0.8958 - val_recall: 0.8958\n",
      "Epoch 95/150\n",
      "24/24 [==============================] - 140s 6s/step - loss: 0.2898 - accuracy: 0.8737 - precision: 0.8737 - recall: 0.8737 - val_loss: 0.2312 - val_accuracy: 0.9167 - val_precision: 0.9167 - val_recall: 0.9167\n",
      "Epoch 96/150\n",
      "24/24 [==============================] - 139s 6s/step - loss: 0.3015 - accuracy: 0.8750 - precision: 0.8750 - recall: 0.8750 - val_loss: 0.2083 - val_accuracy: 0.9271 - val_precision: 0.9271 - val_recall: 0.9271\n",
      "Epoch 97/150\n",
      "24/24 [==============================] - 139s 6s/step - loss: 0.3040 - accuracy: 0.8789 - precision: 0.8789 - recall: 0.8789 - val_loss: 0.2085 - val_accuracy: 0.9271 - val_precision: 0.9271 - val_recall: 0.9271\n",
      "Epoch 98/150\n",
      "24/24 [==============================] - 139s 6s/step - loss: 0.2961 - accuracy: 0.8802 - precision: 0.8802 - recall: 0.8802 - val_loss: 0.2801 - val_accuracy: 0.8750 - val_precision: 0.8750 - val_recall: 0.8750\n",
      "Epoch 99/150\n",
      "24/24 [==============================] - 139s 6s/step - loss: 0.2920 - accuracy: 0.8867 - precision: 0.8867 - recall: 0.8867 - val_loss: 0.2914 - val_accuracy: 0.8750 - val_precision: 0.8750 - val_recall: 0.8750\n",
      "Epoch 100/150\n",
      "24/24 [==============================] - 139s 6s/step - loss: 0.3263 - accuracy: 0.8581 - precision: 0.8581 - recall: 0.8581 - val_loss: 0.2646 - val_accuracy: 0.8958 - val_precision: 0.8958 - val_recall: 0.8958\n",
      "Epoch 101/150\n",
      "24/24 [==============================] - 140s 6s/step - loss: 0.2764 - accuracy: 0.8932 - precision: 0.8932 - recall: 0.8932 - val_loss: 0.2308 - val_accuracy: 0.9167 - val_precision: 0.9167 - val_recall: 0.9167\n",
      "Epoch 102/150\n",
      "24/24 [==============================] - 140s 6s/step - loss: 0.2731 - accuracy: 0.8958 - precision: 0.8958 - recall: 0.8958 - val_loss: 0.2831 - val_accuracy: 0.8854 - val_precision: 0.8854 - val_recall: 0.8854\n",
      "Epoch 103/150\n",
      "24/24 [==============================] - 140s 6s/step - loss: 0.2667 - accuracy: 0.8971 - precision: 0.8971 - recall: 0.8971 - val_loss: 0.2242 - val_accuracy: 0.8958 - val_precision: 0.8958 - val_recall: 0.8958\n",
      "Epoch 104/150\n",
      "24/24 [==============================] - 140s 6s/step - loss: 0.2758 - accuracy: 0.8919 - precision: 0.8919 - recall: 0.8919 - val_loss: 0.3126 - val_accuracy: 0.8854 - val_precision: 0.8854 - val_recall: 0.8854\n",
      "Epoch 105/150\n",
      "24/24 [==============================] - 140s 6s/step - loss: 0.2727 - accuracy: 0.8958 - precision: 0.8958 - recall: 0.8958 - val_loss: 0.2341 - val_accuracy: 0.9062 - val_precision: 0.9062 - val_recall: 0.9062\n",
      "Epoch 106/150\n",
      "24/24 [==============================] - 140s 6s/step - loss: 0.2949 - accuracy: 0.8802 - precision: 0.8802 - recall: 0.8802 - val_loss: 0.2518 - val_accuracy: 0.8958 - val_precision: 0.8958 - val_recall: 0.8958\n",
      "Epoch 107/150\n",
      "24/24 [==============================] - 140s 6s/step - loss: 0.2800 - accuracy: 0.8906 - precision: 0.8906 - recall: 0.8906 - val_loss: 0.2672 - val_accuracy: 0.9375 - val_precision: 0.9375 - val_recall: 0.9375\n",
      "Epoch 108/150\n",
      "24/24 [==============================] - 140s 6s/step - loss: 0.2753 - accuracy: 0.8958 - precision: 0.8958 - recall: 0.8958 - val_loss: 0.2687 - val_accuracy: 0.9271 - val_precision: 0.9271 - val_recall: 0.9271\n",
      "Epoch 109/150\n",
      "24/24 [==============================] - 140s 6s/step - loss: 0.3371 - accuracy: 0.8516 - precision: 0.8516 - recall: 0.8516 - val_loss: 0.1813 - val_accuracy: 0.9479 - val_precision: 0.9479 - val_recall: 0.9479\n",
      "Epoch 110/150\n",
      "24/24 [==============================] - 139s 6s/step - loss: 0.3740 - accuracy: 0.8294 - precision: 0.8294 - recall: 0.8294 - val_loss: 0.2698 - val_accuracy: 0.9062 - val_precision: 0.9062 - val_recall: 0.9062\n",
      "Epoch 111/150\n",
      "24/24 [==============================] - 140s 6s/step - loss: 0.3478 - accuracy: 0.8503 - precision: 0.8503 - recall: 0.8503 - val_loss: 0.2684 - val_accuracy: 0.8854 - val_precision: 0.8854 - val_recall: 0.8854\n",
      "Epoch 112/150\n",
      "24/24 [==============================] - 140s 6s/step - loss: 0.2921 - accuracy: 0.8828 - precision: 0.8828 - recall: 0.8828 - val_loss: 0.2833 - val_accuracy: 0.8958 - val_precision: 0.8958 - val_recall: 0.8958\n",
      "Epoch 113/150\n",
      "24/24 [==============================] - 139s 6s/step - loss: 0.2915 - accuracy: 0.8802 - precision: 0.8802 - recall: 0.8802 - val_loss: 0.2899 - val_accuracy: 0.9062 - val_precision: 0.9062 - val_recall: 0.9062\n",
      "Epoch 114/150\n",
      "24/24 [==============================] - 140s 6s/step - loss: 0.3098 - accuracy: 0.8711 - precision: 0.8711 - recall: 0.8711 - val_loss: 0.2312 - val_accuracy: 0.8958 - val_precision: 0.8958 - val_recall: 0.8958\n",
      "Epoch 115/150\n",
      "24/24 [==============================] - 140s 6s/step - loss: 0.2573 - accuracy: 0.9049 - precision: 0.9049 - recall: 0.9049 - val_loss: 0.3739 - val_accuracy: 0.8542 - val_precision: 0.8542 - val_recall: 0.8542\n",
      "Epoch 116/150\n",
      "24/24 [==============================] - 140s 6s/step - loss: 0.3158 - accuracy: 0.8672 - precision: 0.8672 - recall: 0.8672 - val_loss: 0.2368 - val_accuracy: 0.9167 - val_precision: 0.9167 - val_recall: 0.9167\n",
      "Epoch 117/150\n",
      "24/24 [==============================] - 139s 6s/step - loss: 0.2932 - accuracy: 0.8828 - precision: 0.8828 - recall: 0.8828 - val_loss: 0.2191 - val_accuracy: 0.9062 - val_precision: 0.9062 - val_recall: 0.9062\n",
      "Epoch 118/150\n",
      "24/24 [==============================] - 140s 6s/step - loss: 0.2852 - accuracy: 0.8880 - precision: 0.8880 - recall: 0.8880 - val_loss: 0.1944 - val_accuracy: 0.9479 - val_precision: 0.9479 - val_recall: 0.9479\n",
      "Epoch 119/150\n",
      "24/24 [==============================] - 140s 6s/step - loss: 0.2837 - accuracy: 0.8880 - precision: 0.8880 - recall: 0.8880 - val_loss: 0.4928 - val_accuracy: 0.8542 - val_precision: 0.8542 - val_recall: 0.8542\n",
      "Epoch 120/150\n",
      "24/24 [==============================] - 140s 6s/step - loss: 0.3051 - accuracy: 0.8763 - precision: 0.8763 - recall: 0.8763 - val_loss: 0.2100 - val_accuracy: 0.9062 - val_precision: 0.9062 - val_recall: 0.9062\n",
      "Epoch 121/150\n",
      "24/24 [==============================] - 140s 6s/step - loss: 0.3301 - accuracy: 0.8594 - precision: 0.8594 - recall: 0.8594 - val_loss: 0.3603 - val_accuracy: 0.8750 - val_precision: 0.8750 - val_recall: 0.8750\n",
      "Epoch 122/150\n",
      "24/24 [==============================] - 139s 6s/step - loss: 0.3759 - accuracy: 0.8255 - precision: 0.8255 - recall: 0.8255 - val_loss: 0.3191 - val_accuracy: 0.8854 - val_precision: 0.8854 - val_recall: 0.8854\n",
      "Epoch 123/150\n",
      "24/24 [==============================] - 139s 6s/step - loss: 0.3228 - accuracy: 0.8659 - precision: 0.8659 - recall: 0.8659 - val_loss: 0.1863 - val_accuracy: 0.9479 - val_precision: 0.9479 - val_recall: 0.9479\n",
      "Epoch 124/150\n",
      "24/24 [==============================] - 139s 6s/step - loss: 0.3004 - accuracy: 0.8802 - precision: 0.8802 - recall: 0.8802 - val_loss: 0.2141 - val_accuracy: 0.9167 - val_precision: 0.9167 - val_recall: 0.9167\n",
      "Epoch 125/150\n",
      "24/24 [==============================] - 140s 6s/step - loss: 0.2819 - accuracy: 0.8880 - precision: 0.8880 - recall: 0.8880 - val_loss: 0.2425 - val_accuracy: 0.9271 - val_precision: 0.9271 - val_recall: 0.9271\n",
      "Epoch 126/150\n",
      "24/24 [==============================] - 140s 6s/step - loss: 0.2802 - accuracy: 0.8893 - precision: 0.8893 - recall: 0.8893 - val_loss: 0.4631 - val_accuracy: 0.8438 - val_precision: 0.8438 - val_recall: 0.8438\n",
      "Epoch 127/150\n",
      "24/24 [==============================] - 140s 6s/step - loss: 0.3117 - accuracy: 0.8711 - precision: 0.8711 - recall: 0.8711 - val_loss: 0.2293 - val_accuracy: 0.8958 - val_precision: 0.8958 - val_recall: 0.8958\n",
      "Epoch 128/150\n",
      "24/24 [==============================] - 140s 6s/step - loss: 0.2977 - accuracy: 0.8763 - precision: 0.8763 - recall: 0.8763 - val_loss: 0.2225 - val_accuracy: 0.9167 - val_precision: 0.9167 - val_recall: 0.9167\n",
      "Epoch 129/150\n",
      "24/24 [==============================] - 140s 6s/step - loss: 0.2710 - accuracy: 0.8971 - precision: 0.8971 - recall: 0.8971 - val_loss: 0.2351 - val_accuracy: 0.8854 - val_precision: 0.8854 - val_recall: 0.8854\n",
      "Epoch 130/150\n",
      "24/24 [==============================] - 140s 6s/step - loss: 0.2910 - accuracy: 0.8841 - precision: 0.8841 - recall: 0.8841 - val_loss: 0.2484 - val_accuracy: 0.9062 - val_precision: 0.9062 - val_recall: 0.9062\n",
      "Epoch 131/150\n",
      "24/24 [==============================] - 140s 6s/step - loss: 0.3173 - accuracy: 0.8672 - precision: 0.8672 - recall: 0.8672 - val_loss: 0.2906 - val_accuracy: 0.8958 - val_precision: 0.8958 - val_recall: 0.8958\n",
      "Epoch 132/150\n",
      "24/24 [==============================] - 140s 6s/step - loss: 0.2859 - accuracy: 0.8880 - precision: 0.8880 - recall: 0.8880 - val_loss: 0.2150 - val_accuracy: 0.9062 - val_precision: 0.9062 - val_recall: 0.9062\n",
      "Epoch 133/150\n",
      "24/24 [==============================] - 140s 6s/step - loss: 0.2987 - accuracy: 0.8789 - precision: 0.8789 - recall: 0.8789 - val_loss: 0.2883 - val_accuracy: 0.8750 - val_precision: 0.8750 - val_recall: 0.8750\n",
      "Epoch 134/150\n",
      "24/24 [==============================] - 140s 6s/step - loss: 0.2965 - accuracy: 0.8802 - precision: 0.8802 - recall: 0.8802 - val_loss: 0.2499 - val_accuracy: 0.9167 - val_precision: 0.9167 - val_recall: 0.9167\n",
      "Epoch 135/150\n",
      "24/24 [==============================] - 140s 6s/step - loss: 0.2802 - accuracy: 0.8880 - precision: 0.8880 - recall: 0.8880 - val_loss: 0.3414 - val_accuracy: 0.8958 - val_precision: 0.8958 - val_recall: 0.8958\n",
      "Epoch 136/150\n",
      "24/24 [==============================] - 140s 6s/step - loss: 0.2961 - accuracy: 0.8815 - precision: 0.8815 - recall: 0.8815 - val_loss: 0.2702 - val_accuracy: 0.8958 - val_precision: 0.8958 - val_recall: 0.8958\n",
      "Epoch 137/150\n",
      "24/24 [==============================] - 140s 6s/step - loss: 0.3220 - accuracy: 0.8594 - precision: 0.8594 - recall: 0.8594 - val_loss: 0.2248 - val_accuracy: 0.9062 - val_precision: 0.9062 - val_recall: 0.9062\n",
      "Epoch 138/150\n",
      "24/24 [==============================] - 139s 6s/step - loss: 0.2576 - accuracy: 0.9076 - precision: 0.9076 - recall: 0.9076 - val_loss: 0.2411 - val_accuracy: 0.8958 - val_precision: 0.8958 - val_recall: 0.8958\n",
      "Epoch 139/150\n",
      "24/24 [==============================] - 139s 6s/step - loss: 0.2956 - accuracy: 0.8815 - precision: 0.8815 - recall: 0.8815 - val_loss: 0.1847 - val_accuracy: 0.9271 - val_precision: 0.9271 - val_recall: 0.9271\n",
      "Epoch 140/150\n",
      "24/24 [==============================] - 140s 6s/step - loss: 0.3142 - accuracy: 0.8776 - precision: 0.8776 - recall: 0.8776 - val_loss: 0.2035 - val_accuracy: 0.9271 - val_precision: 0.9271 - val_recall: 0.9271\n",
      "Epoch 141/150\n",
      "24/24 [==============================] - 140s 6s/step - loss: 0.3453 - accuracy: 0.8503 - precision: 0.8503 - recall: 0.8503 - val_loss: 0.2631 - val_accuracy: 0.9167 - val_precision: 0.9167 - val_recall: 0.9167\n",
      "Epoch 142/150\n",
      "24/24 [==============================] - 140s 6s/step - loss: 0.3072 - accuracy: 0.8737 - precision: 0.8737 - recall: 0.8737 - val_loss: 0.2302 - val_accuracy: 0.9167 - val_precision: 0.9167 - val_recall: 0.9167\n",
      "Epoch 143/150\n",
      "24/24 [==============================] - 139s 6s/step - loss: 0.3449 - accuracy: 0.8516 - precision: 0.8516 - recall: 0.8516 - val_loss: 0.2382 - val_accuracy: 0.9062 - val_precision: 0.9062 - val_recall: 0.9062\n",
      "Epoch 144/150\n",
      "24/24 [==============================] - 139s 6s/step - loss: 0.3360 - accuracy: 0.8503 - precision: 0.8503 - recall: 0.8503 - val_loss: 0.1890 - val_accuracy: 0.9479 - val_precision: 0.9479 - val_recall: 0.9479\n",
      "Epoch 145/150\n"
     ]
    },
    {
     "name": "stdout",
     "output_type": "stream",
     "text": [
      "24/24 [==============================] - 139s 6s/step - loss: 0.2770 - accuracy: 0.8958 - precision: 0.8958 - recall: 0.8958 - val_loss: 0.3913 - val_accuracy: 0.8958 - val_precision: 0.8958 - val_recall: 0.8958\n",
      "Epoch 146/150\n",
      "24/24 [==============================] - 139s 6s/step - loss: 0.2886 - accuracy: 0.8828 - precision: 0.8828 - recall: 0.8828 - val_loss: 0.3186 - val_accuracy: 0.8958 - val_precision: 0.8958 - val_recall: 0.8958\n",
      "Epoch 147/150\n",
      "24/24 [==============================] - 140s 6s/step - loss: 0.2874 - accuracy: 0.8854 - precision: 0.8854 - recall: 0.8854 - val_loss: 0.2394 - val_accuracy: 0.9167 - val_precision: 0.9167 - val_recall: 0.9167\n",
      "Epoch 148/150\n",
      "24/24 [==============================] - 139s 6s/step - loss: 0.2878 - accuracy: 0.8841 - precision: 0.8841 - recall: 0.8841 - val_loss: 0.2711 - val_accuracy: 0.8958 - val_precision: 0.8958 - val_recall: 0.8958\n",
      "Epoch 149/150\n",
      "24/24 [==============================] - 139s 6s/step - loss: 0.3245 - accuracy: 0.8620 - precision: 0.8620 - recall: 0.8620 - val_loss: 0.2961 - val_accuracy: 0.8958 - val_precision: 0.8958 - val_recall: 0.8958\n",
      "Epoch 150/150\n",
      "24/24 [==============================] - 140s 6s/step - loss: 0.3281 - accuracy: 0.8568 - precision: 0.8568 - recall: 0.8568 - val_loss: 0.2148 - val_accuracy: 0.9271 - val_precision: 0.9271 - val_recall: 0.9271\n"
     ]
    }
   ],
   "source": [
    "with strategy.scope():\n",
    "    history = vgg19.fit(\n",
    "        train_ds,\n",
    "        steps_per_epoch  = TRAIN_IMG_COUNT // BATCH_SIZE,\n",
    "        epochs           = EPOCHS,\n",
    "        validation_data  = val_ds,\n",
    "        validation_steps = VAL_IMG_COUNT // BATCH_SIZE,\n",
    "        callbacks        = [check_point]\n",
    "    )"
   ]
  },
  {
   "cell_type": "markdown",
   "id": "fd68517c",
   "metadata": {},
   "source": [
    "## Step 5. 결과 확인 및 시각화"
   ]
  },
  {
   "cell_type": "code",
   "execution_count": 29,
   "id": "fa6ded7b",
   "metadata": {},
   "outputs": [
    {
     "data": {
      "image/png": "[encoded data removed]",
      "text/plain": [
       "<Figure size 720x720 with 4 Axes>"
      ]
     },
     "metadata": {
      "needs_background": "light"
     },
     "output_type": "display_data"
    }
   ],
   "source": [
    "fig, ax = plt.subplots(2, 2, figsize = (10, 10))\n",
    "ax      = ax.ravel()\n",
    "\n",
    "for i, met in enumerate([\"precision\", \"recall\", \"accuracy\", \"loss\"]):\n",
    "    ax[i].plot(history.history[met])\n",
    "    ax[i].plot(history.history[\"val_\" + met])\n",
    "    ax[i].set_title(f\"Model {met}\")\n",
    "    ax[i].set_xlabel(\"epochs\")\n",
    "    ax[i].set_ylabel(met)\n",
    "    ax[i].legend([\"train\", \"val\"])"
   ]
  },
  {
   "cell_type": "markdown",
   "id": "e3835531",
   "metadata": {},
   "source": [
    "## Step 6. 최종 Test dataset 검정하기"
   ]
  },
  {
   "cell_type": "code",
   "execution_count": 30,
   "id": "206038e5",
   "metadata": {},
   "outputs": [
    {
     "name": "stdout",
     "output_type": "stream",
     "text": [
      "4/4 [==============================] - 14s 3s/step - loss: 0.2297 - accuracy: 0.9231 - precision: 0.9231 - recall: 0.9231\n"
     ]
    }
   ],
   "source": [
    "with strategy.scope():\n",
    "    vgg19 = tf.keras.models.load_model(ROOT_PATH + \"/pre_training_model/best_model_vgg19_1.h5\")\n",
    "    \n",
    "    loss, acc, prec, rec = vgg19.evaluate(test_ds)"
   ]
  },
  {
   "cell_type": "markdown",
   "id": "bbd86eba",
   "metadata": {},
   "source": [
    "#### model building(VGG19, Fine Tuning)"
   ]
  },
  {
   "cell_type": "code",
   "execution_count": 31,
   "id": "d77f589d",
   "metadata": {},
   "outputs": [
    {
     "name": "stdout",
     "output_type": "stream",
     "text": [
      "Model: \"sequential\"\n",
      "_________________________________________________________________\n",
      "Layer (type)                 Output Shape              Param #   \n",
      "=================================================================\n",
      "vgg19 (Functional)           (None, 8, 8, 512)         20024384  \n",
      "_________________________________________________________________\n",
      "flatten (Flatten)            (None, 32768)             0         \n",
      "_________________________________________________________________\n",
      "dense (Dense)                (None, 4096)              134221824 \n",
      "_________________________________________________________________\n",
      "activation (Activation)      (None, 4096)              0         \n",
      "_________________________________________________________________\n",
      "dropout (Dropout)            (None, 4096)              0         \n",
      "_________________________________________________________________\n",
      "dense_1 (Dense)              (None, 4096)              16781312  \n",
      "_________________________________________________________________\n",
      "activation_1 (Activation)    (None, 4096)              0         \n",
      "_________________________________________________________________\n",
      "dropout_1 (Dropout)          (None, 4096)              0         \n",
      "_________________________________________________________________\n",
      "dense_2 (Dense)              (None, 2)                 8194      \n",
      "_________________________________________________________________\n",
      "activation_2 (Activation)    (None, 2)                 0         \n",
      "=================================================================\n",
      "Total params: 171,035,714\n",
      "Trainable params: 151,011,330\n",
      "Non-trainable params: 20,024,384\n",
      "_________________________________________________________________\n"
     ]
    }
   ],
   "source": [
    "vgg19.summary()"
   ]
  },
  {
   "cell_type": "code",
   "execution_count": 32,
   "id": "ef4aeef4",
   "metadata": {},
   "outputs": [
    {
     "data": {
      "text/plain": [
       "True"
      ]
     },
     "execution_count": 32,
     "metadata": {},
     "output_type": "execute_result"
    }
   ],
   "source": [
    "with strategy.scope():\n",
    "    vgg19.layers[0].trainable = True\n",
    "    \n",
    "vgg19.layers[0].trainable"
   ]
  },
  {
   "cell_type": "code",
   "execution_count": 33,
   "id": "bf9208a3",
   "metadata": {},
   "outputs": [
    {
     "name": "stdout",
     "output_type": "stream",
     "text": [
      "Model: \"sequential\"\n",
      "_________________________________________________________________\n",
      "Layer (type)                 Output Shape              Param #   \n",
      "=================================================================\n",
      "vgg19 (Functional)           (None, 8, 8, 512)         20024384  \n",
      "_________________________________________________________________\n",
      "flatten (Flatten)            (None, 32768)             0         \n",
      "_________________________________________________________________\n",
      "dense (Dense)                (None, 4096)              134221824 \n",
      "_________________________________________________________________\n",
      "activation (Activation)      (None, 4096)              0         \n",
      "_________________________________________________________________\n",
      "dropout (Dropout)            (None, 4096)              0         \n",
      "_________________________________________________________________\n",
      "dense_1 (Dense)              (None, 4096)              16781312  \n",
      "_________________________________________________________________\n",
      "activation_1 (Activation)    (None, 4096)              0         \n",
      "_________________________________________________________________\n",
      "dropout_1 (Dropout)          (None, 4096)              0         \n",
      "_________________________________________________________________\n",
      "dense_2 (Dense)              (None, 2)                 8194      \n",
      "_________________________________________________________________\n",
      "activation_2 (Activation)    (None, 2)                 0         \n",
      "=================================================================\n",
      "Total params: 171,035,714\n",
      "Trainable params: 171,035,714\n",
      "Non-trainable params: 0\n",
      "_________________________________________________________________\n"
     ]
    }
   ],
   "source": [
    "vgg19.summary()"
   ]
  },
  {
   "cell_type": "code",
   "execution_count": 34,
   "id": "6c7f4a50",
   "metadata": {},
   "outputs": [],
   "source": [
    "with strategy.scope():\n",
    "    METRICS = [\n",
    "        \"accuracy\",\n",
    "        tf.keras.metrics.Precision(name = \"precision\"),\n",
    "        tf.keras.metrics.Recall(name    = \"recall\")\n",
    "    ]\n",
    "    \n",
    "    vgg19.compile(\n",
    "        optimizer = tf.keras.optimizers.Adam(learning_rate = 1e-5),\n",
    "        loss      = \"binary_crossentropy\",\n",
    "        metrics   = METRICS\n",
    "    )\n",
    "    \n",
    "    check_point = tf.keras.callbacks.ModelCheckpoint(ROOT_PATH + \"/pre_training_model/best_model_vgg19_ft.h5\")"
   ]
  },
  {
   "cell_type": "code",
   "execution_count": 35,
   "id": "57825dce",
   "metadata": {},
   "outputs": [
    {
     "name": "stdout",
     "output_type": "stream",
     "text": [
      "Epoch 1/150\n",
      "24/24 [==============================] - 418s 16s/step - loss: 1.1704 - accuracy: 0.5286 - precision: 0.5286 - recall: 0.5286 - val_loss: 0.5819 - val_accuracy: 0.6771 - val_precision: 0.6771 - val_recall: 0.6771\n",
      "Epoch 2/150\n",
      "24/24 [==============================] - 395s 17s/step - loss: 0.5844 - accuracy: 0.7083 - precision: 0.7083 - recall: 0.7083 - val_loss: 0.3883 - val_accuracy: 0.8125 - val_precision: 0.8125 - val_recall: 0.8125\n",
      "Epoch 3/150\n",
      "24/24 [==============================] - 396s 17s/step - loss: 0.4820 - accuracy: 0.7474 - precision: 0.7474 - recall: 0.7474 - val_loss: 0.2488 - val_accuracy: 0.9167 - val_precision: 0.9167 - val_recall: 0.9167\n",
      "Epoch 4/150\n",
      "24/24 [==============================] - 394s 16s/step - loss: 0.4361 - accuracy: 0.7969 - precision: 0.7969 - recall: 0.7969 - val_loss: 0.2681 - val_accuracy: 0.8750 - val_precision: 0.8750 - val_recall: 0.8750\n",
      "Epoch 5/150\n",
      "24/24 [==============================] - 394s 16s/step - loss: 0.3639 - accuracy: 0.8333 - precision: 0.8333 - recall: 0.8333 - val_loss: 0.2490 - val_accuracy: 0.9271 - val_precision: 0.9271 - val_recall: 0.9271\n",
      "Epoch 6/150\n",
      "24/24 [==============================] - 393s 16s/step - loss: 0.4072 - accuracy: 0.8138 - precision: 0.8138 - recall: 0.8138 - val_loss: 0.4350 - val_accuracy: 0.7500 - val_precision: 0.7500 - val_recall: 0.7500\n",
      "Epoch 7/150\n",
      "24/24 [==============================] - 393s 16s/step - loss: 0.3616 - accuracy: 0.8229 - precision: 0.8229 - recall: 0.8229 - val_loss: 0.3836 - val_accuracy: 0.8229 - val_precision: 0.8229 - val_recall: 0.8229\n",
      "Epoch 8/150\n",
      "24/24 [==============================] - 394s 16s/step - loss: 0.4620 - accuracy: 0.7461 - precision: 0.7461 - recall: 0.7461 - val_loss: 0.4095 - val_accuracy: 0.7812 - val_precision: 0.7812 - val_recall: 0.7812\n",
      "Epoch 9/150\n",
      "24/24 [==============================] - 394s 16s/step - loss: 0.3896 - accuracy: 0.8346 - precision: 0.8346 - recall: 0.8346 - val_loss: 0.3243 - val_accuracy: 0.8438 - val_precision: 0.8438 - val_recall: 0.8438\n",
      "Epoch 10/150\n",
      "24/24 [==============================] - 394s 16s/step - loss: 0.3339 - accuracy: 0.8789 - precision: 0.8789 - recall: 0.8789 - val_loss: 0.2657 - val_accuracy: 0.8854 - val_precision: 0.8854 - val_recall: 0.8854\n",
      "Epoch 11/150\n",
      "24/24 [==============================] - 393s 16s/step - loss: 0.2919 - accuracy: 0.8763 - precision: 0.8763 - recall: 0.8763 - val_loss: 0.2978 - val_accuracy: 0.8646 - val_precision: 0.8646 - val_recall: 0.8646\n",
      "Epoch 12/150\n",
      "24/24 [==============================] - 392s 16s/step - loss: 0.2354 - accuracy: 0.9154 - precision: 0.9154 - recall: 0.9154 - val_loss: 0.2057 - val_accuracy: 0.9271 - val_precision: 0.9271 - val_recall: 0.9271\n",
      "Epoch 13/150\n",
      "24/24 [==============================] - 393s 16s/step - loss: 0.2215 - accuracy: 0.9206 - precision: 0.9206 - recall: 0.9206 - val_loss: 0.2115 - val_accuracy: 0.9062 - val_precision: 0.9062 - val_recall: 0.9062\n",
      "Epoch 14/150\n",
      "24/24 [==============================] - 394s 16s/step - loss: 0.2041 - accuracy: 0.9245 - precision: 0.9245 - recall: 0.9245 - val_loss: 0.2317 - val_accuracy: 0.9062 - val_precision: 0.9062 - val_recall: 0.9062\n",
      "Epoch 15/150\n",
      "24/24 [==============================] - 393s 16s/step - loss: 0.4106 - accuracy: 0.8945 - precision: 0.8945 - recall: 0.8945 - val_loss: 0.3563 - val_accuracy: 0.8021 - val_precision: 0.8021 - val_recall: 0.8021\n",
      "Epoch 16/150\n",
      "24/24 [==============================] - 394s 16s/step - loss: 0.4525 - accuracy: 0.7734 - precision: 0.7734 - recall: 0.7734 - val_loss: 0.3090 - val_accuracy: 0.8542 - val_precision: 0.8542 - val_recall: 0.8542\n",
      "Epoch 17/150\n",
      "24/24 [==============================] - 393s 16s/step - loss: 0.2880 - accuracy: 0.8945 - precision: 0.8945 - recall: 0.8945 - val_loss: 0.2681 - val_accuracy: 0.9167 - val_precision: 0.9167 - val_recall: 0.9167\n",
      "Epoch 18/150\n",
      "24/24 [==============================] - 393s 16s/step - loss: 0.2406 - accuracy: 0.9076 - precision: 0.9076 - recall: 0.9076 - val_loss: 0.2861 - val_accuracy: 0.9062 - val_precision: 0.9062 - val_recall: 0.9062\n",
      "Epoch 19/150\n",
      "24/24 [==============================] - 393s 16s/step - loss: 0.2400 - accuracy: 0.9036 - precision: 0.9036 - recall: 0.9036 - val_loss: 0.1873 - val_accuracy: 0.9167 - val_precision: 0.9167 - val_recall: 0.9167\n",
      "Epoch 20/150\n",
      "24/24 [==============================] - 393s 16s/step - loss: 0.1672 - accuracy: 0.9375 - precision: 0.9375 - recall: 0.9375 - val_loss: 0.1673 - val_accuracy: 0.9167 - val_precision: 0.9167 - val_recall: 0.9167\n",
      "Epoch 21/150\n",
      "24/24 [==============================] - 393s 16s/step - loss: 0.1329 - accuracy: 0.9518 - precision: 0.9518 - recall: 0.9518 - val_loss: 0.1807 - val_accuracy: 0.9375 - val_precision: 0.9375 - val_recall: 0.9375\n",
      "Epoch 22/150\n",
      "24/24 [==============================] - 392s 16s/step - loss: 0.1380 - accuracy: 0.9453 - precision: 0.9453 - recall: 0.9453 - val_loss: 0.3340 - val_accuracy: 0.8958 - val_precision: 0.8958 - val_recall: 0.8958\n",
      "Epoch 23/150\n",
      "24/24 [==============================] - 393s 16s/step - loss: 0.1290 - accuracy: 0.9479 - precision: 0.9479 - recall: 0.9479 - val_loss: 0.3292 - val_accuracy: 0.9479 - val_precision: 0.9479 - val_recall: 0.9479\n",
      "Epoch 24/150\n",
      "24/24 [==============================] - 393s 16s/step - loss: 0.2017 - accuracy: 0.9193 - precision: 0.9193 - recall: 0.9193 - val_loss: 0.1776 - val_accuracy: 0.9167 - val_precision: 0.9167 - val_recall: 0.9167\n",
      "Epoch 25/150\n",
      "24/24 [==============================] - 392s 16s/step - loss: 0.1215 - accuracy: 0.9544 - precision: 0.9544 - recall: 0.9544 - val_loss: 0.1973 - val_accuracy: 0.9583 - val_precision: 0.9583 - val_recall: 0.9583\n",
      "Epoch 26/150\n",
      "24/24 [==============================] - 393s 16s/step - loss: 0.1186 - accuracy: 0.9544 - precision: 0.9544 - recall: 0.9544 - val_loss: 0.1184 - val_accuracy: 0.9375 - val_precision: 0.9375 - val_recall: 0.9375\n",
      "Epoch 27/150\n",
      "24/24 [==============================] - 393s 16s/step - loss: 0.1147 - accuracy: 0.9570 - precision: 0.9570 - recall: 0.9570 - val_loss: 0.0938 - val_accuracy: 0.9688 - val_precision: 0.9688 - val_recall: 0.9688\n",
      "Epoch 28/150\n",
      "24/24 [==============================] - 393s 16s/step - loss: 0.0855 - accuracy: 0.9740 - precision: 0.9740 - recall: 0.9740 - val_loss: 0.1989 - val_accuracy: 0.8958 - val_precision: 0.8958 - val_recall: 0.8958\n",
      "Epoch 29/150\n",
      "24/24 [==============================] - 393s 16s/step - loss: 0.0809 - accuracy: 0.9753 - precision: 0.9753 - recall: 0.9753 - val_loss: 0.0984 - val_accuracy: 0.9688 - val_precision: 0.9688 - val_recall: 0.9688\n",
      "Epoch 30/150\n",
      "24/24 [==============================] - 392s 16s/step - loss: 0.0629 - accuracy: 0.9727 - precision: 0.9727 - recall: 0.9727 - val_loss: 0.1535 - val_accuracy: 0.9375 - val_precision: 0.9375 - val_recall: 0.9375\n",
      "Epoch 31/150\n",
      "24/24 [==============================] - 393s 16s/step - loss: 0.1519 - accuracy: 0.9414 - precision: 0.9414 - recall: 0.9414 - val_loss: 0.1791 - val_accuracy: 0.9375 - val_precision: 0.9375 - val_recall: 0.9375\n",
      "Epoch 32/150\n",
      "24/24 [==============================] - 394s 16s/step - loss: 0.4727 - accuracy: 0.8216 - precision: 0.8216 - recall: 0.8216 - val_loss: 0.3368 - val_accuracy: 0.9271 - val_precision: 0.9271 - val_recall: 0.9271\n",
      "Epoch 33/150\n",
      "24/24 [==============================] - 393s 16s/step - loss: 0.2626 - accuracy: 0.9219 - precision: 0.9219 - recall: 0.9219 - val_loss: 0.2565 - val_accuracy: 0.8958 - val_precision: 0.8958 - val_recall: 0.8958\n",
      "Epoch 34/150\n",
      "24/24 [==============================] - 393s 16s/step - loss: 0.1595 - accuracy: 0.9466 - precision: 0.9466 - recall: 0.9466 - val_loss: 0.2266 - val_accuracy: 0.8958 - val_precision: 0.8958 - val_recall: 0.8958\n",
      "Epoch 35/150\n",
      "24/24 [==============================] - 392s 16s/step - loss: 0.2135 - accuracy: 0.9245 - precision: 0.9245 - recall: 0.9245 - val_loss: 0.1907 - val_accuracy: 0.9479 - val_precision: 0.9479 - val_recall: 0.9479\n",
      "Epoch 36/150\n",
      "24/24 [==============================] - 393s 16s/step - loss: 0.1257 - accuracy: 0.9518 - precision: 0.9518 - recall: 0.9518 - val_loss: 0.1577 - val_accuracy: 0.9375 - val_precision: 0.9375 - val_recall: 0.9375\n",
      "Epoch 37/150\n",
      "24/24 [==============================] - 392s 16s/step - loss: 0.0976 - accuracy: 0.9701 - precision: 0.9701 - recall: 0.9701 - val_loss: 0.2469 - val_accuracy: 0.9375 - val_precision: 0.9375 - val_recall: 0.9375\n",
      "Epoch 38/150\n",
      "24/24 [==============================] - 393s 16s/step - loss: 0.1108 - accuracy: 0.9583 - precision: 0.9583 - recall: 0.9583 - val_loss: 0.3264 - val_accuracy: 0.9479 - val_precision: 0.9479 - val_recall: 0.9479\n",
      "Epoch 39/150\n",
      "24/24 [==============================] - 393s 16s/step - loss: 0.1279 - accuracy: 0.9492 - precision: 0.9492 - recall: 0.9492 - val_loss: 0.3937 - val_accuracy: 0.9271 - val_precision: 0.9271 - val_recall: 0.9271\n",
      "Epoch 40/150\n",
      "24/24 [==============================] - 393s 16s/step - loss: 0.0956 - accuracy: 0.9740 - precision: 0.9740 - recall: 0.9740 - val_loss: 0.2027 - val_accuracy: 0.9479 - val_precision: 0.9479 - val_recall: 0.9479\n",
      "Epoch 41/150\n",
      "24/24 [==============================] - 392s 16s/step - loss: 0.0896 - accuracy: 0.9701 - precision: 0.9701 - recall: 0.9701 - val_loss: 0.1970 - val_accuracy: 0.9479 - val_precision: 0.9479 - val_recall: 0.9479\n",
      "Epoch 42/150\n",
      "24/24 [==============================] - 392s 16s/step - loss: 0.0642 - accuracy: 0.9805 - precision: 0.9805 - recall: 0.9805 - val_loss: 0.2563 - val_accuracy: 0.9167 - val_precision: 0.9167 - val_recall: 0.9167\n",
      "Epoch 43/150\n",
      "24/24 [==============================] - 392s 16s/step - loss: 0.0669 - accuracy: 0.9779 - precision: 0.9779 - recall: 0.9779 - val_loss: 0.4732 - val_accuracy: 0.9167 - val_precision: 0.9167 - val_recall: 0.9167\n",
      "Epoch 44/150\n",
      "24/24 [==============================] - 392s 16s/step - loss: 0.1128 - accuracy: 0.9570 - precision: 0.9570 - recall: 0.9570 - val_loss: 0.3500 - val_accuracy: 0.9792 - val_precision: 0.9792 - val_recall: 0.9792\n",
      "Epoch 45/150\n",
      "24/24 [==============================] - 392s 16s/step - loss: 0.0679 - accuracy: 0.9792 - precision: 0.9792 - recall: 0.9792 - val_loss: 0.2230 - val_accuracy: 0.9583 - val_precision: 0.9583 - val_recall: 0.9583\n",
      "Epoch 46/150\n",
      "24/24 [==============================] - 392s 16s/step - loss: 0.0715 - accuracy: 0.9740 - precision: 0.9740 - recall: 0.9740 - val_loss: 0.4035 - val_accuracy: 0.9375 - val_precision: 0.9375 - val_recall: 0.9375\n",
      "Epoch 47/150\n",
      "24/24 [==============================] - 392s 16s/step - loss: 0.1163 - accuracy: 0.9583 - precision: 0.9583 - recall: 0.9583 - val_loss: 0.2632 - val_accuracy: 0.8854 - val_precision: 0.8854 - val_recall: 0.8854\n",
      "Epoch 48/150\n",
      "24/24 [==============================] - 393s 16s/step - loss: 0.1577 - accuracy: 0.9466 - precision: 0.9466 - recall: 0.9466 - val_loss: 0.2094 - val_accuracy: 0.9062 - val_precision: 0.9062 - val_recall: 0.9062\n",
      "Epoch 49/150\n",
      "24/24 [==============================] - 394s 16s/step - loss: 0.0912 - accuracy: 0.9701 - precision: 0.9701 - recall: 0.9701 - val_loss: 0.1826 - val_accuracy: 0.9167 - val_precision: 0.9167 - val_recall: 0.9167\n",
      "Epoch 50/150\n",
      "24/24 [==============================] - 392s 16s/step - loss: 0.0659 - accuracy: 0.9766 - precision: 0.9766 - recall: 0.9766 - val_loss: 0.4194 - val_accuracy: 0.9375 - val_precision: 0.9375 - val_recall: 0.9375\n",
      "Epoch 51/150\n",
      "24/24 [==============================] - 393s 16s/step - loss: 0.0571 - accuracy: 0.9805 - precision: 0.9805 - recall: 0.9805 - val_loss: 0.2300 - val_accuracy: 0.9167 - val_precision: 0.9167 - val_recall: 0.9167\n",
      "Epoch 52/150\n",
      "24/24 [==============================] - 392s 16s/step - loss: 0.1213 - accuracy: 0.9505 - precision: 0.9505 - recall: 0.9505 - val_loss: 0.1164 - val_accuracy: 0.9583 - val_precision: 0.9583 - val_recall: 0.9583\n",
      "Epoch 53/150\n",
      "24/24 [==============================] - 391s 16s/step - loss: 0.0639 - accuracy: 0.9714 - precision: 0.9714 - recall: 0.9714 - val_loss: 0.1905 - val_accuracy: 0.9271 - val_precision: 0.9271 - val_recall: 0.9271\n",
      "Epoch 54/150\n",
      "24/24 [==============================] - 392s 16s/step - loss: 0.0421 - accuracy: 0.9844 - precision: 0.9844 - recall: 0.9844 - val_loss: 0.1710 - val_accuracy: 0.9479 - val_precision: 0.9479 - val_recall: 0.9479\n",
      "Epoch 55/150\n",
      "24/24 [==============================] - 392s 16s/step - loss: 0.0415 - accuracy: 0.9792 - precision: 0.9792 - recall: 0.9792 - val_loss: 0.1618 - val_accuracy: 0.9479 - val_precision: 0.9479 - val_recall: 0.9479\n",
      "Epoch 56/150\n",
      "24/24 [==============================] - 393s 16s/step - loss: 0.0378 - accuracy: 0.9831 - precision: 0.9831 - recall: 0.9831 - val_loss: 0.4825 - val_accuracy: 0.9062 - val_precision: 0.9062 - val_recall: 0.9062\n",
      "Epoch 57/150\n",
      "24/24 [==============================] - 393s 16s/step - loss: 0.1049 - accuracy: 0.9661 - precision: 0.9661 - recall: 0.9661 - val_loss: 0.1025 - val_accuracy: 0.9583 - val_precision: 0.9583 - val_recall: 0.9583\n",
      "Epoch 58/150\n",
      "24/24 [==============================] - 392s 16s/step - loss: 0.0456 - accuracy: 0.9844 - precision: 0.9844 - recall: 0.9844 - val_loss: 0.1621 - val_accuracy: 0.9271 - val_precision: 0.9271 - val_recall: 0.9271\n",
      "Epoch 59/150\n",
      "24/24 [==============================] - 392s 16s/step - loss: 0.0361 - accuracy: 0.9831 - precision: 0.9831 - recall: 0.9831 - val_loss: 0.3138 - val_accuracy: 0.9167 - val_precision: 0.9167 - val_recall: 0.9167\n",
      "Epoch 60/150\n",
      "24/24 [==============================] - 392s 16s/step - loss: 0.0453 - accuracy: 0.9818 - precision: 0.9818 - recall: 0.9818 - val_loss: 0.2474 - val_accuracy: 0.9375 - val_precision: 0.9375 - val_recall: 0.9375\n",
      "Epoch 61/150\n",
      "24/24 [==============================] - 394s 16s/step - loss: 0.0232 - accuracy: 0.9935 - precision: 0.9935 - recall: 0.9935 - val_loss: 0.2304 - val_accuracy: 0.9479 - val_precision: 0.9479 - val_recall: 0.9479\n",
      "Epoch 62/150\n",
      "24/24 [==============================] - 392s 16s/step - loss: 0.0123 - accuracy: 0.9987 - precision: 0.9987 - recall: 0.9987 - val_loss: 0.3351 - val_accuracy: 0.9479 - val_precision: 0.9479 - val_recall: 0.9479\n",
      "Epoch 63/150\n",
      "24/24 [==============================] - 392s 16s/step - loss: 0.0109 - accuracy: 0.9974 - precision: 0.9974 - recall: 0.9974 - val_loss: 0.3635 - val_accuracy: 0.9375 - val_precision: 0.9375 - val_recall: 0.9375\n",
      "Epoch 64/150\n",
      "24/24 [==============================] - 391s 16s/step - loss: 0.0048 - accuracy: 0.9987 - precision: 0.9987 - recall: 0.9987 - val_loss: 0.5686 - val_accuracy: 0.9583 - val_precision: 0.9583 - val_recall: 0.9583\n",
      "Epoch 65/150\n",
      "24/24 [==============================] - 391s 16s/step - loss: 0.0080 - accuracy: 0.9987 - precision: 0.9987 - recall: 0.9987 - val_loss: 0.5045 - val_accuracy: 0.9375 - val_precision: 0.9375 - val_recall: 0.9375\n",
      "Epoch 66/150\n",
      "24/24 [==============================] - 392s 16s/step - loss: 0.0086 - accuracy: 0.9974 - precision: 0.9974 - recall: 0.9974 - val_loss: 0.4283 - val_accuracy: 0.9479 - val_precision: 0.9479 - val_recall: 0.9479\n",
      "Epoch 67/150\n",
      "24/24 [==============================] - 392s 16s/step - loss: 0.0087 - accuracy: 0.9961 - precision: 0.9961 - recall: 0.9961 - val_loss: 0.2786 - val_accuracy: 0.9583 - val_precision: 0.9583 - val_recall: 0.9583\n",
      "Epoch 68/150\n",
      "24/24 [==============================] - 392s 16s/step - loss: 0.0044 - accuracy: 1.0000 - precision: 1.0000 - recall: 1.0000 - val_loss: 0.3394 - val_accuracy: 0.9583 - val_precision: 0.9583 - val_recall: 0.9583\n",
      "Epoch 69/150\n",
      "24/24 [==============================] - 392s 16s/step - loss: 0.0031 - accuracy: 1.0000 - precision: 1.0000 - recall: 1.0000 - val_loss: 0.2540 - val_accuracy: 0.9583 - val_precision: 0.9583 - val_recall: 0.9583\n",
      "Epoch 70/150\n",
      "24/24 [==============================] - 392s 16s/step - loss: 9.6304e-04 - accuracy: 1.0000 - precision: 1.0000 - recall: 1.0000 - val_loss: 0.2950 - val_accuracy: 0.9583 - val_precision: 0.9583 - val_recall: 0.9583\n",
      "Epoch 71/150\n",
      "24/24 [==============================] - 392s 16s/step - loss: 0.0031 - accuracy: 1.0000 - precision: 1.0000 - recall: 1.0000 - val_loss: 0.1721 - val_accuracy: 0.9688 - val_precision: 0.9688 - val_recall: 0.9688\n",
      "Epoch 72/150\n",
      "24/24 [==============================] - 391s 16s/step - loss: 0.0063 - accuracy: 0.9974 - precision: 0.9974 - recall: 0.9974 - val_loss: 0.3125 - val_accuracy: 0.9583 - val_precision: 0.9583 - val_recall: 0.9583\n",
      "Epoch 73/150\n"
     ]
    },
    {
     "name": "stdout",
     "output_type": "stream",
     "text": [
      "24/24 [==============================] - 393s 16s/step - loss: 0.0065 - accuracy: 0.9961 - precision: 0.9961 - recall: 0.9961 - val_loss: 0.2950 - val_accuracy: 0.9479 - val_precision: 0.9479 - val_recall: 0.9479\n",
      "Epoch 74/150\n",
      "24/24 [==============================] - 393s 16s/step - loss: 0.0258 - accuracy: 0.9870 - precision: 0.9870 - recall: 0.9870 - val_loss: 0.3024 - val_accuracy: 0.9688 - val_precision: 0.9688 - val_recall: 0.9688\n",
      "Epoch 75/150\n",
      "24/24 [==============================] - 392s 16s/step - loss: 0.1316 - accuracy: 0.9727 - precision: 0.9727 - recall: 0.9727 - val_loss: 0.2156 - val_accuracy: 0.9375 - val_precision: 0.9375 - val_recall: 0.9375\n",
      "Epoch 76/150\n",
      "24/24 [==============================] - 392s 16s/step - loss: 0.0680 - accuracy: 0.9740 - precision: 0.9740 - recall: 0.9740 - val_loss: 0.1654 - val_accuracy: 0.9792 - val_precision: 0.9792 - val_recall: 0.9792\n",
      "Epoch 77/150\n",
      "24/24 [==============================] - 392s 16s/step - loss: 0.0375 - accuracy: 0.9883 - precision: 0.9883 - recall: 0.9883 - val_loss: 0.1284 - val_accuracy: 0.9583 - val_precision: 0.9583 - val_recall: 0.9583\n",
      "Epoch 78/150\n",
      "24/24 [==============================] - 392s 16s/step - loss: 0.0217 - accuracy: 0.9935 - precision: 0.9935 - recall: 0.9935 - val_loss: 0.1853 - val_accuracy: 0.9375 - val_precision: 0.9375 - val_recall: 0.9375\n",
      "Epoch 79/150\n",
      "24/24 [==============================] - 392s 16s/step - loss: 0.0233 - accuracy: 0.9883 - precision: 0.9883 - recall: 0.9883 - val_loss: 0.2627 - val_accuracy: 0.9583 - val_precision: 0.9583 - val_recall: 0.9583\n",
      "Epoch 80/150\n",
      "24/24 [==============================] - 392s 16s/step - loss: 0.0085 - accuracy: 0.9961 - precision: 0.9961 - recall: 0.9961 - val_loss: 0.0764 - val_accuracy: 0.9792 - val_precision: 0.9792 - val_recall: 0.9792\n",
      "Epoch 81/150\n",
      "24/24 [==============================] - 392s 16s/step - loss: 0.0062 - accuracy: 0.9987 - precision: 0.9987 - recall: 0.9987 - val_loss: 0.2717 - val_accuracy: 0.9688 - val_precision: 0.9688 - val_recall: 0.9688\n",
      "Epoch 82/150\n",
      "24/24 [==============================] - 392s 16s/step - loss: 0.0085 - accuracy: 0.9974 - precision: 0.9974 - recall: 0.9974 - val_loss: 0.3666 - val_accuracy: 0.9583 - val_precision: 0.9583 - val_recall: 0.9583\n",
      "Epoch 83/150\n",
      "24/24 [==============================] - 391s 16s/step - loss: 0.0025 - accuracy: 1.0000 - precision: 1.0000 - recall: 1.0000 - val_loss: 0.1212 - val_accuracy: 0.9792 - val_precision: 0.9792 - val_recall: 0.9792\n",
      "Epoch 84/150\n",
      "24/24 [==============================] - 392s 16s/step - loss: 0.0017 - accuracy: 1.0000 - precision: 1.0000 - recall: 1.0000 - val_loss: 0.1245 - val_accuracy: 0.9688 - val_precision: 0.9688 - val_recall: 0.9688\n",
      "Epoch 85/150\n",
      "24/24 [==============================] - 392s 16s/step - loss: 0.0011 - accuracy: 1.0000 - precision: 1.0000 - recall: 1.0000 - val_loss: 0.3552 - val_accuracy: 0.9688 - val_precision: 0.9688 - val_recall: 0.9688\n",
      "Epoch 86/150\n",
      "24/24 [==============================] - 391s 16s/step - loss: 0.0021 - accuracy: 1.0000 - precision: 1.0000 - recall: 1.0000 - val_loss: 0.2402 - val_accuracy: 0.9583 - val_precision: 0.9583 - val_recall: 0.9583\n",
      "Epoch 87/150\n",
      "24/24 [==============================] - 392s 16s/step - loss: 9.2039e-04 - accuracy: 1.0000 - precision: 1.0000 - recall: 1.0000 - val_loss: 0.3579 - val_accuracy: 0.9688 - val_precision: 0.9688 - val_recall: 0.9688\n",
      "Epoch 88/150\n",
      "24/24 [==============================] - 392s 16s/step - loss: 9.3618e-04 - accuracy: 1.0000 - precision: 1.0000 - recall: 1.0000 - val_loss: 0.3033 - val_accuracy: 0.9792 - val_precision: 0.9792 - val_recall: 0.9792\n",
      "Epoch 89/150\n",
      "24/24 [==============================] - 393s 16s/step - loss: 5.8460e-04 - accuracy: 1.0000 - precision: 1.0000 - recall: 1.0000 - val_loss: 0.4188 - val_accuracy: 0.9583 - val_precision: 0.9583 - val_recall: 0.9583\n",
      "Epoch 90/150\n",
      "24/24 [==============================] - 392s 16s/step - loss: 3.0434e-04 - accuracy: 1.0000 - precision: 1.0000 - recall: 1.0000 - val_loss: 0.5305 - val_accuracy: 0.9479 - val_precision: 0.9479 - val_recall: 0.9479\n",
      "Epoch 91/150\n",
      "24/24 [==============================] - 391s 16s/step - loss: 4.1174e-04 - accuracy: 1.0000 - precision: 1.0000 - recall: 1.0000 - val_loss: 0.3064 - val_accuracy: 0.9583 - val_precision: 0.9583 - val_recall: 0.9583\n",
      "Epoch 92/150\n",
      "24/24 [==============================] - 392s 16s/step - loss: 4.7029e-04 - accuracy: 1.0000 - precision: 1.0000 - recall: 1.0000 - val_loss: 0.5632 - val_accuracy: 0.9479 - val_precision: 0.9479 - val_recall: 0.9479\n",
      "Epoch 93/150\n",
      "24/24 [==============================] - 391s 16s/step - loss: 5.2150e-04 - accuracy: 1.0000 - precision: 1.0000 - recall: 1.0000 - val_loss: 0.6283 - val_accuracy: 0.9375 - val_precision: 0.9375 - val_recall: 0.9375\n",
      "Epoch 94/150\n",
      "24/24 [==============================] - 392s 16s/step - loss: 2.5711e-04 - accuracy: 1.0000 - precision: 1.0000 - recall: 1.0000 - val_loss: 0.5331 - val_accuracy: 0.9479 - val_precision: 0.9479 - val_recall: 0.9479\n",
      "Epoch 95/150\n",
      "24/24 [==============================] - 391s 16s/step - loss: 1.7923e-04 - accuracy: 1.0000 - precision: 1.0000 - recall: 1.0000 - val_loss: 0.3472 - val_accuracy: 0.9583 - val_precision: 0.9583 - val_recall: 0.9583\n",
      "Epoch 96/150\n",
      "24/24 [==============================] - 392s 16s/step - loss: 2.7618e-04 - accuracy: 1.0000 - precision: 1.0000 - recall: 1.0000 - val_loss: 0.5477 - val_accuracy: 0.9479 - val_precision: 0.9479 - val_recall: 0.9479\n",
      "Epoch 97/150\n",
      "24/24 [==============================] - 391s 16s/step - loss: 1.7309e-04 - accuracy: 1.0000 - precision: 1.0000 - recall: 1.0000 - val_loss: 0.6493 - val_accuracy: 0.9375 - val_precision: 0.9375 - val_recall: 0.9375\n",
      "Epoch 98/150\n",
      "24/24 [==============================] - 391s 16s/step - loss: 4.8160e-04 - accuracy: 1.0000 - precision: 1.0000 - recall: 1.0000 - val_loss: 0.5593 - val_accuracy: 0.9583 - val_precision: 0.9583 - val_recall: 0.9583\n",
      "Epoch 99/150\n",
      "24/24 [==============================] - 391s 16s/step - loss: 2.2631e-04 - accuracy: 1.0000 - precision: 1.0000 - recall: 1.0000 - val_loss: 0.6213 - val_accuracy: 0.9479 - val_precision: 0.9479 - val_recall: 0.9479\n",
      "Epoch 100/150\n",
      "24/24 [==============================] - 391s 16s/step - loss: 1.5699e-04 - accuracy: 1.0000 - precision: 1.0000 - recall: 1.0000 - val_loss: 0.6558 - val_accuracy: 0.9375 - val_precision: 0.9375 - val_recall: 0.9375\n",
      "Epoch 101/150\n",
      "24/24 [==============================] - 392s 16s/step - loss: 9.8559e-05 - accuracy: 1.0000 - precision: 1.0000 - recall: 1.0000 - val_loss: 0.4980 - val_accuracy: 0.9583 - val_precision: 0.9583 - val_recall: 0.9583\n",
      "Epoch 102/150\n",
      "24/24 [==============================] - 391s 16s/step - loss: 8.2373e-05 - accuracy: 1.0000 - precision: 1.0000 - recall: 1.0000 - val_loss: 0.6667 - val_accuracy: 0.9375 - val_precision: 0.9375 - val_recall: 0.9375\n",
      "Epoch 103/150\n",
      "24/24 [==============================] - 391s 16s/step - loss: 1.3322e-04 - accuracy: 1.0000 - precision: 1.0000 - recall: 1.0000 - val_loss: 0.4044 - val_accuracy: 0.9479 - val_precision: 0.9479 - val_recall: 0.9479\n",
      "Epoch 104/150\n",
      "24/24 [==============================] - 391s 16s/step - loss: 9.1809e-05 - accuracy: 1.0000 - precision: 1.0000 - recall: 1.0000 - val_loss: 0.6898 - val_accuracy: 0.9375 - val_precision: 0.9375 - val_recall: 0.9375\n",
      "Epoch 105/150\n",
      "24/24 [==============================] - 391s 16s/step - loss: 9.4638e-05 - accuracy: 1.0000 - precision: 1.0000 - recall: 1.0000 - val_loss: 0.1208 - val_accuracy: 0.9792 - val_precision: 0.9792 - val_recall: 0.9792\n",
      "Epoch 106/150\n",
      "24/24 [==============================] - 391s 16s/step - loss: 9.9874e-05 - accuracy: 1.0000 - precision: 1.0000 - recall: 1.0000 - val_loss: 0.3525 - val_accuracy: 0.9479 - val_precision: 0.9479 - val_recall: 0.9479\n",
      "Epoch 107/150\n",
      "24/24 [==============================] - 392s 16s/step - loss: 9.6766e-05 - accuracy: 1.0000 - precision: 1.0000 - recall: 1.0000 - val_loss: 0.6743 - val_accuracy: 0.9479 - val_precision: 0.9479 - val_recall: 0.9479\n",
      "Epoch 108/150\n",
      "24/24 [==============================] - 391s 16s/step - loss: 6.2241e-05 - accuracy: 1.0000 - precision: 1.0000 - recall: 1.0000 - val_loss: 0.7100 - val_accuracy: 0.9375 - val_precision: 0.9375 - val_recall: 0.9375\n"
     ]
    },
    {
     "name": "stdout",
     "output_type": "stream",
     "text": [
      "Epoch 109/150\n",
      "24/24 [==============================] - 392s 16s/step - loss: 6.5317e-05 - accuracy: 1.0000 - precision: 1.0000 - recall: 1.0000 - val_loss: 0.6925 - val_accuracy: 0.9479 - val_precision: 0.9479 - val_recall: 0.9479\n",
      "Epoch 110/150\n",
      "24/24 [==============================] - 391s 16s/step - loss: 5.5574e-05 - accuracy: 1.0000 - precision: 1.0000 - recall: 1.0000 - val_loss: 0.7146 - val_accuracy: 0.9375 - val_precision: 0.9375 - val_recall: 0.9375\n",
      "Epoch 111/150\n",
      "24/24 [==============================] - 392s 16s/step - loss: 7.5010e-05 - accuracy: 1.0000 - precision: 1.0000 - recall: 1.0000 - val_loss: 0.6086 - val_accuracy: 0.9479 - val_precision: 0.9479 - val_recall: 0.9479\n",
      "Epoch 112/150\n",
      "24/24 [==============================] - 392s 16s/step - loss: 3.9335e-05 - accuracy: 1.0000 - precision: 1.0000 - recall: 1.0000 - val_loss: 0.6174 - val_accuracy: 0.9583 - val_precision: 0.9583 - val_recall: 0.9583\n",
      "Epoch 113/150\n",
      "24/24 [==============================] - 392s 16s/step - loss: 1.3334e-04 - accuracy: 1.0000 - precision: 1.0000 - recall: 1.0000 - val_loss: 0.6330 - val_accuracy: 0.9583 - val_precision: 0.9583 - val_recall: 0.9583\n",
      "Epoch 114/150\n",
      "24/24 [==============================] - 391s 16s/step - loss: 5.1128e-05 - accuracy: 1.0000 - precision: 1.0000 - recall: 1.0000 - val_loss: 0.2597 - val_accuracy: 0.9688 - val_precision: 0.9688 - val_recall: 0.9688\n",
      "Epoch 115/150\n",
      "24/24 [==============================] - 392s 16s/step - loss: 5.2001e-05 - accuracy: 1.0000 - precision: 1.0000 - recall: 1.0000 - val_loss: 0.5642 - val_accuracy: 0.9688 - val_precision: 0.9688 - val_recall: 0.9688\n",
      "Epoch 116/150\n",
      "24/24 [==============================] - 391s 16s/step - loss: 9.0823e-05 - accuracy: 1.0000 - precision: 1.0000 - recall: 1.0000 - val_loss: 0.5889 - val_accuracy: 0.9583 - val_precision: 0.9583 - val_recall: 0.9583\n",
      "Epoch 117/150\n",
      "24/24 [==============================] - 391s 16s/step - loss: 4.4793e-05 - accuracy: 1.0000 - precision: 1.0000 - recall: 1.0000 - val_loss: 0.6562 - val_accuracy: 0.9583 - val_precision: 0.9583 - val_recall: 0.9583\n",
      "Epoch 118/150\n",
      "24/24 [==============================] - 392s 16s/step - loss: 6.9903e-05 - accuracy: 1.0000 - precision: 1.0000 - recall: 1.0000 - val_loss: 0.2469 - val_accuracy: 0.9688 - val_precision: 0.9688 - val_recall: 0.9688\n",
      "Epoch 119/150\n",
      "24/24 [==============================] - 391s 16s/step - loss: 2.5832e-05 - accuracy: 1.0000 - precision: 1.0000 - recall: 1.0000 - val_loss: 0.6090 - val_accuracy: 0.9583 - val_precision: 0.9583 - val_recall: 0.9583\n",
      "Epoch 120/150\n",
      "24/24 [==============================] - 392s 16s/step - loss: 5.4969e-05 - accuracy: 1.0000 - precision: 1.0000 - recall: 1.0000 - val_loss: 0.6471 - val_accuracy: 0.9479 - val_precision: 0.9479 - val_recall: 0.9479\n",
      "Epoch 121/150\n",
      "24/24 [==============================] - 392s 16s/step - loss: 6.3945e-05 - accuracy: 1.0000 - precision: 1.0000 - recall: 1.0000 - val_loss: 0.4435 - val_accuracy: 0.9479 - val_precision: 0.9479 - val_recall: 0.9479\n",
      "Epoch 122/150\n",
      "24/24 [==============================] - 391s 16s/step - loss: 1.6072e-04 - accuracy: 1.0000 - precision: 1.0000 - recall: 1.0000 - val_loss: 0.5594 - val_accuracy: 0.9583 - val_precision: 0.9583 - val_recall: 0.9583\n",
      "Epoch 123/150\n",
      "24/24 [==============================] - 392s 16s/step - loss: 4.3233e-05 - accuracy: 1.0000 - precision: 1.0000 - recall: 1.0000 - val_loss: 0.6798 - val_accuracy: 0.9479 - val_precision: 0.9479 - val_recall: 0.9479\n",
      "Epoch 124/150\n",
      "24/24 [==============================] - 393s 16s/step - loss: 7.2348e-05 - accuracy: 1.0000 - precision: 1.0000 - recall: 1.0000 - val_loss: 0.7371 - val_accuracy: 0.9583 - val_precision: 0.9583 - val_recall: 0.9583\n",
      "Epoch 125/150\n",
      "24/24 [==============================] - 392s 16s/step - loss: 5.3716e-05 - accuracy: 1.0000 - precision: 1.0000 - recall: 1.0000 - val_loss: 0.6557 - val_accuracy: 0.9583 - val_precision: 0.9583 - val_recall: 0.9583\n",
      "Epoch 126/150\n",
      "24/24 [==============================] - 392s 16s/step - loss: 5.3381e-05 - accuracy: 1.0000 - precision: 1.0000 - recall: 1.0000 - val_loss: 0.7212 - val_accuracy: 0.9583 - val_precision: 0.9583 - val_recall: 0.9583\n",
      "Epoch 127/150\n",
      "24/24 [==============================] - 392s 16s/step - loss: 3.9482e-05 - accuracy: 1.0000 - precision: 1.0000 - recall: 1.0000 - val_loss: 0.7291 - val_accuracy: 0.9479 - val_precision: 0.9479 - val_recall: 0.9479\n",
      "Epoch 128/150\n",
      "24/24 [==============================] - 392s 16s/step - loss: 2.0268e-05 - accuracy: 1.0000 - precision: 1.0000 - recall: 1.0000 - val_loss: 0.7509 - val_accuracy: 0.9375 - val_precision: 0.9375 - val_recall: 0.9375\n",
      "Epoch 129/150\n",
      "24/24 [==============================] - 392s 16s/step - loss: 3.1079e-05 - accuracy: 1.0000 - precision: 1.0000 - recall: 1.0000 - val_loss: 0.7556 - val_accuracy: 0.9375 - val_precision: 0.9375 - val_recall: 0.9375\n",
      "Epoch 130/150\n",
      "24/24 [==============================] - 392s 16s/step - loss: 2.9159e-05 - accuracy: 1.0000 - precision: 1.0000 - recall: 1.0000 - val_loss: 0.3891 - val_accuracy: 0.9479 - val_precision: 0.9479 - val_recall: 0.9479\n",
      "Epoch 131/150\n",
      "24/24 [==============================] - 392s 16s/step - loss: 1.5389e-05 - accuracy: 1.0000 - precision: 1.0000 - recall: 1.0000 - val_loss: 0.7635 - val_accuracy: 0.9271 - val_precision: 0.9271 - val_recall: 0.9271\n",
      "Epoch 132/150\n",
      "24/24 [==============================] - 393s 16s/step - loss: 2.0171e-05 - accuracy: 1.0000 - precision: 1.0000 - recall: 1.0000 - val_loss: 0.3635 - val_accuracy: 0.9688 - val_precision: 0.9688 - val_recall: 0.9688\n",
      "Epoch 133/150\n",
      "24/24 [==============================] - 391s 16s/step - loss: 1.5329e-05 - accuracy: 1.0000 - precision: 1.0000 - recall: 1.0000 - val_loss: 0.7658 - val_accuracy: 0.9375 - val_precision: 0.9375 - val_recall: 0.9375\n",
      "Epoch 134/150\n",
      "24/24 [==============================] - 391s 16s/step - loss: 4.8444e-05 - accuracy: 1.0000 - precision: 1.0000 - recall: 1.0000 - val_loss: 0.5267 - val_accuracy: 0.9688 - val_precision: 0.9688 - val_recall: 0.9688\n",
      "Epoch 135/150\n",
      "24/24 [==============================] - 392s 16s/step - loss: 1.9396e-05 - accuracy: 1.0000 - precision: 1.0000 - recall: 1.0000 - val_loss: 0.6288 - val_accuracy: 0.9479 - val_precision: 0.9479 - val_recall: 0.9479\n",
      "Epoch 136/150\n",
      "24/24 [==============================] - 392s 16s/step - loss: 1.5806e-05 - accuracy: 1.0000 - precision: 1.0000 - recall: 1.0000 - val_loss: 0.7437 - val_accuracy: 0.9479 - val_precision: 0.9479 - val_recall: 0.9479\n",
      "Epoch 137/150\n",
      "24/24 [==============================] - 393s 16s/step - loss: 1.4169e-04 - accuracy: 1.0000 - precision: 1.0000 - recall: 1.0000 - val_loss: 0.6090 - val_accuracy: 0.9583 - val_precision: 0.9583 - val_recall: 0.9583\n",
      "Epoch 138/150\n",
      "24/24 [==============================] - 392s 16s/step - loss: 4.6019e-05 - accuracy: 1.0000 - precision: 1.0000 - recall: 1.0000 - val_loss: 0.8482 - val_accuracy: 0.9375 - val_precision: 0.9375 - val_recall: 0.9375\n",
      "Epoch 139/150\n",
      "24/24 [==============================] - 392s 16s/step - loss: 2.5306e-05 - accuracy: 1.0000 - precision: 1.0000 - recall: 1.0000 - val_loss: 0.6567 - val_accuracy: 0.9688 - val_precision: 0.9688 - val_recall: 0.9688\n",
      "Epoch 140/150\n",
      "24/24 [==============================] - 392s 16s/step - loss: 1.1616e-04 - accuracy: 1.0000 - precision: 1.0000 - recall: 1.0000 - val_loss: 0.2991 - val_accuracy: 0.9688 - val_precision: 0.9688 - val_recall: 0.9688\n",
      "Epoch 141/150\n",
      "24/24 [==============================] - 392s 16s/step - loss: 3.1797e-05 - accuracy: 1.0000 - precision: 1.0000 - recall: 1.0000 - val_loss: 0.5831 - val_accuracy: 0.9688 - val_precision: 0.9688 - val_recall: 0.9688\n",
      "Epoch 142/150\n",
      "24/24 [==============================] - 393s 16s/step - loss: 5.9797e-05 - accuracy: 1.0000 - precision: 1.0000 - recall: 1.0000 - val_loss: 0.5777 - val_accuracy: 0.9688 - val_precision: 0.9688 - val_recall: 0.9688\n",
      "Epoch 143/150\n",
      "24/24 [==============================] - 394s 16s/step - loss: 4.8580e-05 - accuracy: 1.0000 - precision: 1.0000 - recall: 1.0000 - val_loss: 0.7918 - val_accuracy: 0.9583 - val_precision: 0.9583 - val_recall: 0.9583\n",
      "Epoch 144/150\n",
      "24/24 [==============================] - 392s 16s/step - loss: 2.4698e-05 - accuracy: 1.0000 - precision: 1.0000 - recall: 1.0000 - val_loss: 0.6379 - val_accuracy: 0.9583 - val_precision: 0.9583 - val_recall: 0.9583\n",
      "Epoch 145/150\n",
      "24/24 [==============================] - 392s 16s/step - loss: 7.1663e-05 - accuracy: 1.0000 - precision: 1.0000 - recall: 1.0000 - val_loss: 0.8592 - val_accuracy: 0.9375 - val_precision: 0.9375 - val_recall: 0.9375\n",
      "Epoch 146/150\n",
      "24/24 [==============================] - 391s 16s/step - loss: 1.9953e-05 - accuracy: 1.0000 - precision: 1.0000 - recall: 1.0000 - val_loss: 0.6395 - val_accuracy: 0.9688 - val_precision: 0.9688 - val_recall: 0.9688\n",
      "Epoch 147/150\n",
      "24/24 [==============================] - 391s 16s/step - loss: 3.3694e-05 - accuracy: 1.0000 - precision: 1.0000 - recall: 1.0000 - val_loss: 0.7969 - val_accuracy: 0.9479 - val_precision: 0.9479 - val_recall: 0.9479\n",
      "Epoch 148/150\n",
      "24/24 [==============================] - 391s 16s/step - loss: 9.3348e-06 - accuracy: 1.0000 - precision: 1.0000 - recall: 1.0000 - val_loss: 0.4003 - val_accuracy: 0.9688 - val_precision: 0.9688 - val_recall: 0.9688\n",
      "Epoch 149/150\n",
      "24/24 [==============================] - 391s 16s/step - loss: 4.3666e-05 - accuracy: 1.0000 - precision: 1.0000 - recall: 1.0000 - val_loss: 0.4605 - val_accuracy: 0.9583 - val_precision: 0.9583 - val_recall: 0.9583\n",
      "Epoch 150/150\n",
      "24/24 [==============================] - 391s 16s/step - loss: 2.7627e-05 - accuracy: 1.0000 - precision: 1.0000 - recall: 1.0000 - val_loss: 0.3570 - val_accuracy: 0.9688 - val_precision: 0.9688 - val_recall: 0.9688\n"
     ]
    }
   ],
   "source": [
    "with strategy.scope():\n",
    "    history = vgg19.fit(\n",
    "        train_ds,\n",
    "        steps_per_epoch  = TRAIN_IMG_COUNT // BATCH_SIZE,\n",
    "        epochs           = EPOCHS,\n",
    "        validation_data  = val_ds,\n",
    "        validation_steps = VAL_IMG_COUNT // BATCH_SIZE,\n",
    "        callbacks        = [check_point]\n",
    "    )"
   ]
  },
  {
   "cell_type": "code",
   "execution_count": 36,
   "id": "8e47493c",
   "metadata": {},
   "outputs": [
    {
     "data": {
      "image/png": "[encoded data removed]",
      "text/plain": [
       "<Figure size 720x720 with 4 Axes>"
      ]
     },
     "metadata": {
      "needs_background": "light"
     },
     "output_type": "display_data"
    }
   ],
   "source": [
    "fig, ax = plt.subplots(2, 2, figsize = (10, 10))\n",
    "ax      = ax.ravel()\n",
    "\n",
    "for i, met in enumerate([\"precision\", \"recall\", \"accuracy\", \"loss\"]):\n",
    "    ax[i].plot(history.history[met])\n",
    "    ax[i].plot(history.history[\"val_\" + met])\n",
    "    ax[i].set_title(f\"Model {met}\")\n",
    "    ax[i].set_xlabel(\"epochs\")\n",
    "    ax[i].set_ylabel(met)\n",
    "    ax[i].legend([\"train\", \"val\"])"
   ]
  },
  {
   "cell_type": "code",
   "execution_count": 37,
   "id": "afb2f5ea",
   "metadata": {},
   "outputs": [
    {
     "name": "stdout",
     "output_type": "stream",
     "text": [
      "4/4 [==============================] - 14s 3s/step - loss: 0.4493 - accuracy: 0.9712 - precision: 0.9712 - recall: 0.9712\n"
     ]
    }
   ],
   "source": [
    "with strategy.scope():\n",
    "    vgg19 = tf.keras.models.load_model(ROOT_PATH + \"/pre_training_model/best_model_vgg19_ft.h5\")\n",
    "    \n",
    "    loss, acc, prec, rec = vgg19.evaluate(test_ds)"
   ]
  },
  {
   "cell_type": "code",
   "execution_count": null,
   "id": "4f2b3417",
   "metadata": {},
   "outputs": [],
   "source": []
  }
 ],
 "metadata": {
  "kernelspec": {
   "display_name": "Python 3",
   "language": "python",
   "name": "python3"
  },
  "language_info": {
   "codemirror_mode": {
    "name": "ipython",
    "version": 3
   },
   "file_extension": ".py",
   "mimetype": "text/x-python",
   "name": "python",
   "nbconvert_exporter": "python",
   "pygments_lexer": "ipython3",
   "version": "3.8.8"
  }
 },
 "nbformat": 4,
 "nbformat_minor": 5
}
